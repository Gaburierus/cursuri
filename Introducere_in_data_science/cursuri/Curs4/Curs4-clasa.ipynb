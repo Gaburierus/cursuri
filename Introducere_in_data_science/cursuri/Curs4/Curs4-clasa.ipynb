{
 "cells": [
  {
   "cell_type": "markdown",
   "metadata": {},
   "source": [
    "# Curs 4: Pandas - elemente avansate"
   ]
  },
  {
   "cell_type": "markdown",
   "metadata": {
    "ExecuteTime": {
     "end_time": "2019-03-17T14:43:46.728030Z",
     "start_time": "2019-03-17T14:43:46.724039Z"
    }
   },
   "source": [
    "## Lucrul cu valori lipsa in Pandas"
   ]
  },
  {
   "cell_type": "markdown",
   "metadata": {},
   "source": [
    "### Reprezentarea valorilor lipsa in Pandas"
   ]
  },
  {
   "cell_type": "markdown",
   "metadata": {},
   "source": [
    "Pandas foloseste doua variante pentru reprezentarea de valori lipsa: None si NaN. NaN este utilizat pentru tipuri numerice in virgula mobila. None este convertit la NaN daca seria este numerica; daca seria este ne-numerica, se considera de tip `object`:"
   ]
  },
  {
   "cell_type": "code",
   "execution_count": null,
   "metadata": {
    "ExecuteTime": {
     "end_time": "2019-03-18T10:39:32.621366Z",
     "start_time": "2019-03-18T10:39:32.616379Z"
    }
   },
   "outputs": [],
   "source": [
    "import pandas as pd\n",
    "import numpy as np"
   ]
  },
  {
   "cell_type": "code",
   "execution_count": null,
   "metadata": {
    "ExecuteTime": {
     "end_time": "2019-03-18T10:39:32.635329Z",
     "start_time": "2019-03-18T10:39:32.624359Z"
    }
   },
   "outputs": [],
   "source": [
    "print(f'pandas version: {pd.__version__}')\n",
    "print(f'numpy version: {np.__version__}')\n",
    "\n",
    "# pandas version: 0.24.1\n",
    "# numpy version: 1.16.2"
   ]
  },
  {
   "cell_type": "markdown",
   "metadata": {},
   "source": [
    "NaN si None sunt echivalene in context numeric, in Pandas:"
   ]
  },
  {
   "cell_type": "code",
   "execution_count": null,
   "metadata": {
    "ExecuteTime": {
     "end_time": "2019-03-18T10:39:32.655275Z",
     "start_time": "2019-03-18T10:39:32.639319Z"
    }
   },
   "outputs": [],
   "source": [
    "pd.Series([1, np.nan, 2, None])"
   ]
  },
  {
   "cell_type": "code",
   "execution_count": null,
   "metadata": {
    "ExecuteTime": {
     "end_time": "2019-03-18T10:39:32.667244Z",
     "start_time": "2019-03-18T10:39:32.659265Z"
    }
   },
   "outputs": [],
   "source": [
    "pd.Series(['John', 'Danny', None])"
   ]
  },
  {
   "cell_type": "markdown",
   "metadata": {},
   "source": [
    "Intrucat doar tipurile numerice floating point suporta valoare de NaN, conform standardulului IEEE 754, se va face transformarea unei serii de tip intreg intr-una de tip floating point daca se insereaza sau adauga un NaN:"
   ]
  },
  {
   "cell_type": "code",
   "execution_count": null,
   "metadata": {
    "ExecuteTime": {
     "end_time": "2019-03-18T10:39:32.680210Z",
     "start_time": "2019-03-18T10:39:32.670236Z"
    }
   },
   "outputs": [],
   "source": [
    "# creare de serie cu valori intregi\n",
    "x = pd.Series([10, 20], dtype=int)\n",
    "x"
   ]
  },
  {
   "cell_type": "code",
   "execution_count": null,
   "metadata": {
    "ExecuteTime": {
     "end_time": "2019-03-18T10:39:32.694171Z",
     "start_time": "2019-03-18T10:39:32.684198Z"
    }
   },
   "outputs": [],
   "source": [
    "x[1] = np.nan\n",
    "x"
   ]
  },
  {
   "cell_type": "code",
   "execution_count": null,
   "metadata": {
    "ExecuteTime": {
     "end_time": "2019-03-18T10:39:32.712124Z",
     "start_time": "2019-03-18T10:39:32.699165Z"
    }
   },
   "outputs": [],
   "source": [
    "# adaugare cu append \n",
    "x = pd.Series([10, 20], dtype=int)\n",
    "print(f'Serie de intregi:\\n{x}')\n",
    "x = x.append(pd.Series([100, np.nan]))\n",
    "print(f'Dupa adaugare:\\n{x}')"
   ]
  },
  {
   "cell_type": "markdown",
   "metadata": {},
   "source": [
    "### Operatii cu valori lipsa in Pandas"
   ]
  },
  {
   "cell_type": "markdown",
   "metadata": {},
   "source": [
    "Metodele ce se pot folosi pentru operarea cu valori lipsa sunt:\n",
    "* `isnull()` - genereaza o matrice de valori logice, ce specifica daca pe pozitiile corespunzatoare sunt valori lipsa\n",
    "* `nonull()` - complementara lui `isnull()`\n",
    "* `dropna()` - returneaza o versiune filtrata a datelor, doar acele linii si coloane care nu au null\n",
    "* `fillna()` - returneaza o copie a obiectului initial, in care valorile lipsa sunt umplute cu ceva specificat"
   ]
  },
  {
   "cell_type": "markdown",
   "metadata": {},
   "source": [
    "#### `isnull()` si `nonull()`"
   ]
  },
  {
   "cell_type": "code",
   "execution_count": null,
   "metadata": {
    "ExecuteTime": {
     "end_time": "2019-03-18T10:39:32.731073Z",
     "start_time": "2019-03-18T10:39:32.720102Z"
    }
   },
   "outputs": [],
   "source": [
    "data = pd.Series([1, np.nan, 'hello', None])\n",
    "data"
   ]
  },
  {
   "cell_type": "code",
   "execution_count": null,
   "metadata": {
    "ExecuteTime": {
     "end_time": "2019-03-18T10:39:32.752017Z",
     "start_time": "2019-03-18T10:39:32.734065Z"
    }
   },
   "outputs": [],
   "source": [
    "data.isnull()"
   ]
  },
  {
   "cell_type": "markdown",
   "metadata": {},
   "source": [
    "Selectarea doar acelor valori din obiectul Series care sunt ne-nule se face cu:"
   ]
  },
  {
   "cell_type": "code",
   "execution_count": null,
   "metadata": {
    "ExecuteTime": {
     "end_time": "2019-03-18T10:39:32.767975Z",
     "start_time": "2019-03-18T10:39:32.756007Z"
    }
   },
   "outputs": [],
   "source": [
    "# filtrare\n",
    "data[data.notnull()]"
   ]
  },
  {
   "cell_type": "markdown",
   "metadata": {},
   "source": [
    "Functiile `isnull()` si `notnull()` functioneaza la fel si pentru obiecte DataFrame:"
   ]
  },
  {
   "cell_type": "code",
   "execution_count": null,
   "metadata": {
    "ExecuteTime": {
     "end_time": "2019-03-18T10:39:32.784929Z",
     "start_time": "2019-03-18T10:39:32.770967Z"
    }
   },
   "outputs": [],
   "source": [
    "df = pd.DataFrame({'Name': ['Will', 'Mary', 'Joan'], 'Age': [20, 25, 30]})\n",
    "df"
   ]
  },
  {
   "cell_type": "code",
   "execution_count": null,
   "metadata": {
    "ExecuteTime": {
     "end_time": "2019-03-18T10:39:32.801886Z",
     "start_time": "2019-03-18T10:39:32.788918Z"
    }
   },
   "outputs": [],
   "source": [
    "df.loc[2, 'Age'] = np.NaN\n",
    "df"
   ]
  },
  {
   "cell_type": "code",
   "execution_count": null,
   "metadata": {
    "ExecuteTime": {
     "end_time": "2019-03-18T10:39:32.818838Z",
     "start_time": "2019-03-18T10:39:32.806871Z"
    }
   },
   "outputs": [],
   "source": [
    "df.isnull()"
   ]
  },
  {
   "cell_type": "code",
   "execution_count": null,
   "metadata": {
    "ExecuteTime": {
     "end_time": "2019-03-18T10:39:32.838784Z",
     "start_time": "2019-03-18T10:39:32.822828Z"
    }
   },
   "outputs": [],
   "source": [
    "df.notnull()"
   ]
  },
  {
   "cell_type": "markdown",
   "metadata": {},
   "source": [
    "In cazul obiectelor DataFrame, aplicarea lui `notnull()` nu lasa afara elemente din dataframe:"
   ]
  },
  {
   "cell_type": "code",
   "execution_count": null,
   "metadata": {
    "ExecuteTime": {
     "end_time": "2019-03-18T10:39:32.861724Z",
     "start_time": "2019-03-18T10:39:32.842775Z"
    }
   },
   "outputs": [],
   "source": [
    "df[df.notnull()]"
   ]
  },
  {
   "cell_type": "markdown",
   "metadata": {},
   "source": [
    "#### Stergerea de elemente cu `dropna()`"
   ]
  },
  {
   "cell_type": "markdown",
   "metadata": {},
   "source": [
    "Pentru un obiect Series, metoda `dropna()` produce un alt obiect in care liniile cu valori de null sunt sterse:"
   ]
  },
  {
   "cell_type": "code",
   "execution_count": null,
   "metadata": {
    "ExecuteTime": {
     "end_time": "2019-03-18T10:39:32.875687Z",
     "start_time": "2019-03-18T10:39:32.864716Z"
    }
   },
   "outputs": [],
   "source": [
    "data"
   ]
  },
  {
   "cell_type": "code",
   "execution_count": null,
   "metadata": {
    "ExecuteTime": {
     "end_time": "2019-03-18T10:39:32.890646Z",
     "start_time": "2019-03-18T10:39:32.878679Z"
    }
   },
   "outputs": [],
   "source": [
    "data2 = data.dropna()\n",
    "data2"
   ]
  },
  {
   "cell_type": "markdown",
   "metadata": {
    "ExecuteTime": {
     "end_time": "2019-03-17T15:10:48.690513Z",
     "start_time": "2019-03-17T15:10:48.682533Z"
    }
   },
   "source": [
    "Pentru un obiect DataFrame se pot sterge doar linii sau coloane intregi - obiectul care ramane trebuie sa fie tot un DataFrame:"
   ]
  },
  {
   "cell_type": "code",
   "execution_count": null,
   "metadata": {
    "ExecuteTime": {
     "end_time": "2019-03-18T10:39:32.917575Z",
     "start_time": "2019-03-18T10:39:32.894635Z"
    }
   },
   "outputs": [],
   "source": [
    "df = pd.DataFrame([[1, np.nan, 2],\n",
    "[2, 3, 5],\n",
    "[np.nan, 4, 6]])\n",
    "df"
   ]
  },
  {
   "cell_type": "code",
   "execution_count": null,
   "metadata": {
    "ExecuteTime": {
     "end_time": "2019-03-18T10:39:32.948492Z",
     "start_time": "2019-03-18T10:39:32.921564Z"
    }
   },
   "outputs": [],
   "source": [
    "# Implicit: eliminare de linii care contin null\n",
    "df2 = df.dropna()\n",
    "df2"
   ]
  },
  {
   "cell_type": "markdown",
   "metadata": {
    "ExecuteTime": {
     "end_time": "2019-03-17T15:15:56.536142Z",
     "start_time": "2019-03-17T15:15:56.530163Z"
    }
   },
   "source": [
    "Mai sus s-a ales implicit stergerea de linii, datorita faptului ca parametrul `axis` are implicit valoarea 0:"
   ]
  },
  {
   "cell_type": "code",
   "execution_count": null,
   "metadata": {
    "ExecuteTime": {
     "end_time": "2019-03-18T10:39:32.958465Z",
     "start_time": "2019-03-18T10:39:32.952481Z"
    }
   },
   "outputs": [],
   "source": [
    "help(df.dropna)"
   ]
  },
  {
   "cell_type": "markdown",
   "metadata": {},
   "source": [
    "Se poate opta pentru stergerea de coloane care contin null:"
   ]
  },
  {
   "cell_type": "code",
   "execution_count": null,
   "metadata": {
    "ExecuteTime": {
     "end_time": "2019-03-18T10:39:32.975420Z",
     "start_time": "2019-03-18T10:39:32.962454Z"
    }
   },
   "outputs": [],
   "source": [
    "df"
   ]
  },
  {
   "cell_type": "code",
   "execution_count": null,
   "metadata": {
    "ExecuteTime": {
     "end_time": "2019-03-18T10:39:32.990379Z",
     "start_time": "2019-03-18T10:39:32.978412Z"
    }
   },
   "outputs": [],
   "source": [
    "# stergere de coloane cu null\n",
    "# df3 = df.dropna(axis=1) # functioneaza\n",
    "df3 = df.dropna(axis='columns')\n",
    "df3"
   ]
  },
  {
   "cell_type": "markdown",
   "metadata": {},
   "source": [
    "Operatiile de mai sus sterg o linie sau o coloana daca ea contine cel putin o valoare de null. Se poate cere stergerea doar in cazul in care intreaga linie sau coloana e plina cu null, folosind parametrul `how`:"
   ]
  },
  {
   "cell_type": "code",
   "execution_count": null,
   "metadata": {
    "ExecuteTime": {
     "end_time": "2019-03-18T10:39:33.005340Z",
     "start_time": "2019-03-18T10:39:32.993372Z"
    }
   },
   "outputs": [],
   "source": [
    "df"
   ]
  },
  {
   "cell_type": "code",
   "execution_count": null,
   "metadata": {
    "ExecuteTime": {
     "end_time": "2019-03-18T10:39:33.029277Z",
     "start_time": "2019-03-18T10:39:33.015313Z"
    }
   },
   "outputs": [],
   "source": [
    "df2 = df.dropna(how='all')\n",
    "df2"
   ]
  },
  {
   "cell_type": "markdown",
   "metadata": {
    "ExecuteTime": {
     "end_time": "2019-03-17T15:22:51.322644Z",
     "start_time": "2019-03-17T15:22:51.314665Z"
    }
   },
   "source": [
    "De remarcat ca `dropna()` nu modifica obiectul originar, decat daca se specifica paarametrul `inplace=True`. "
   ]
  },
  {
   "cell_type": "markdown",
   "metadata": {},
   "source": [
    "#### Umplerea de valori nule cu `fillna()`"
   ]
  },
  {
   "cell_type": "code",
   "execution_count": null,
   "metadata": {
    "ExecuteTime": {
     "end_time": "2019-03-18T10:39:33.040246Z",
     "start_time": "2019-03-18T10:39:33.033265Z"
    }
   },
   "outputs": [],
   "source": [
    "data = pd.Series([1, np.nan, 2, None, 3], index=list('abcde'))"
   ]
  },
  {
   "cell_type": "code",
   "execution_count": null,
   "metadata": {
    "ExecuteTime": {
     "end_time": "2019-03-18T10:39:33.052213Z",
     "start_time": "2019-03-18T10:39:33.045233Z"
    }
   },
   "outputs": [],
   "source": [
    "# umplere cu valoare constanta\n",
    "data2 = data.fillna(0)\n",
    "data2"
   ]
  },
  {
   "cell_type": "code",
   "execution_count": null,
   "metadata": {
    "ExecuteTime": {
     "end_time": "2019-03-18T10:39:33.063184Z",
     "start_time": "2019-03-18T10:39:33.055207Z"
    }
   },
   "outputs": [],
   "source": [
    "# Umplere cu copierea ultimei valori cunoscute:\n",
    "data2 = data.fillna(method='ffill')\n",
    "data2"
   ]
  },
  {
   "cell_type": "code",
   "execution_count": null,
   "metadata": {
    "ExecuteTime": {
     "end_time": "2019-03-18T10:39:33.074155Z",
     "start_time": "2019-03-18T10:39:33.067174Z"
    }
   },
   "outputs": [],
   "source": [
    "# Umplere 'inapoi':\n",
    "data2 = data.fillna(method='bfill')\n",
    "data2"
   ]
  },
  {
   "cell_type": "code",
   "execution_count": null,
   "metadata": {
    "ExecuteTime": {
     "end_time": "2019-03-18T10:39:33.088118Z",
     "start_time": "2019-03-18T10:39:33.078145Z"
    }
   },
   "outputs": [],
   "source": [
    "# umplerea cu valoare calculata:\n",
    "print(f'Media valorilor non-nan este: {data.mean()}')\n",
    "data2 = data.fillna(data.mean())\n",
    "data2"
   ]
  },
  {
   "cell_type": "markdown",
   "metadata": {},
   "source": [
    "## Agregare si grupare"
   ]
  },
  {
   "cell_type": "markdown",
   "metadata": {},
   "source": [
    "### Agregari simple"
   ]
  },
  {
   "cell_type": "code",
   "execution_count": null,
   "metadata": {
    "ExecuteTime": {
     "end_time": "2019-03-18T10:39:33.105073Z",
     "start_time": "2019-03-18T10:39:33.093106Z"
    }
   },
   "outputs": [],
   "source": [
    "np.random.seed(100)\n",
    "ser = pd.Series(np.random.rand(10))\n",
    "ser"
   ]
  },
  {
   "cell_type": "code",
   "execution_count": null,
   "metadata": {
    "ExecuteTime": {
     "end_time": "2019-03-18T10:39:33.120033Z",
     "start_time": "2019-03-18T10:39:33.109062Z"
    }
   },
   "outputs": [],
   "source": [
    "ser.sum(), ser.max(), ser.min()"
   ]
  },
  {
   "cell_type": "markdown",
   "metadata": {},
   "source": [
    "Pentru obiecte DataFrame, operatiile de agregare opereaza pe coloane:"
   ]
  },
  {
   "cell_type": "code",
   "execution_count": null,
   "metadata": {
    "ExecuteTime": {
     "end_time": "2019-03-18T10:39:33.141976Z",
     "start_time": "2019-03-18T10:39:33.123025Z"
    }
   },
   "outputs": [],
   "source": [
    "df = pd.DataFrame({'A': np.random.rand(10), 'B': -np.random.rand(10) }, index=['line ' + str(i) for i in range(1, 11)])\n",
    "df"
   ]
  },
  {
   "cell_type": "code",
   "execution_count": null,
   "metadata": {
    "ExecuteTime": {
     "end_time": "2019-03-18T10:39:33.161921Z",
     "start_time": "2019-03-18T10:39:33.145964Z"
    }
   },
   "outputs": [],
   "source": [
    "df.mean()"
   ]
  },
  {
   "cell_type": "markdown",
   "metadata": {},
   "source": [
    ".. si daca se doreste calculul pe linii, se poate indica via parametrul `axis`:"
   ]
  },
  {
   "cell_type": "code",
   "execution_count": null,
   "metadata": {
    "ExecuteTime": {
     "end_time": "2019-03-18T10:39:33.174887Z",
     "start_time": "2019-03-18T10:39:33.164913Z"
    }
   },
   "outputs": [],
   "source": [
    "# df.mean(axis=1)\n",
    "df.mean(axis='column')"
   ]
  },
  {
   "cell_type": "markdown",
   "metadata": {
    "ExecuteTime": {
     "end_time": "2019-03-18T03:56:38.188197Z",
     "start_time": "2019-03-18T03:56:38.183194Z"
    }
   },
   "source": [
    "Exista o metoda utila, care pentru un obiect DataFrame aclculeaza statisticile:"
   ]
  },
  {
   "cell_type": "code",
   "execution_count": null,
   "metadata": {
    "ExecuteTime": {
     "end_time": "2019-03-18T10:39:33.205803Z",
     "start_time": "2019-03-18T10:39:33.178881Z"
    }
   },
   "outputs": [],
   "source": [
    "df.describe()"
   ]
  },
  {
   "cell_type": "markdown",
   "metadata": {},
   "source": [
    "Operatiile nu iau in considerare valorile lipsa:"
   ]
  },
  {
   "cell_type": "code",
   "execution_count": null,
   "metadata": {
    "ExecuteTime": {
     "end_time": "2019-03-18T10:39:33.224752Z",
     "start_time": "2019-03-18T10:39:33.208796Z"
    }
   },
   "outputs": [],
   "source": [
    "df.iloc[0, 0] = df.iloc[0,1] = np.nan\n",
    "df.iloc[5, 0] = df.iloc[7, 1] = df.iloc[9, 1] = np.nan\n",
    "df"
   ]
  },
  {
   "cell_type": "code",
   "execution_count": null,
   "metadata": {
    "ExecuteTime": {
     "end_time": "2019-03-18T10:39:33.238716Z",
     "start_time": "2019-03-18T10:39:33.228742Z"
    }
   },
   "outputs": [],
   "source": [
    "df.count()"
   ]
  },
  {
   "cell_type": "markdown",
   "metadata": {},
   "source": [
    "\n",
    "|  Metoda de agregare | Descriere  |\n",
    "|---|---|\n",
    "|  count() | Numarul total de elemente   |\n",
    "|  first(), last() | primul si ultimul element  |\n",
    "|  mean(), median() | Media si mediana  |\n",
    "|  min(), max() | Minimul si maximul  |\n",
    "|  std(), var()  | Deviatia standard si varianta  |\n",
    "|  mad() | Deviatia absoluta medie  |\n",
    "|  prod(), sum() | Produsul si suma elementelor  |"
   ]
  },
  {
   "cell_type": "markdown",
   "metadata": {},
   "source": [
    "### Gruparea datelor: `split()`, `apply()`, `combine()`"
   ]
  },
  {
   "cell_type": "markdown",
   "metadata": {},
   "source": [
    "Pasii care se fac pentru agregarea datelor urmeazaz secventa: imparte, aplica operatie, combina:\n",
    "1. imparte - via metoda `split()`: separa datele initiale in grupuri, pe baza unei chei\n",
    "1. aplica, via metoda `apply()`: calculeaza o functie pentru fiecare grup: agregare, transformare, filtrare\n",
    "1. combina, via metoda `combine()`: concateneaza rezultatele si rpodu raspunsul final\n",
    "\n",
    "![Apply-split-combine](./images/asc.png)"
   ]
  },
  {
   "cell_type": "code",
   "execution_count": null,
   "metadata": {
    "ExecuteTime": {
     "end_time": "2019-03-18T10:39:33.258662Z",
     "start_time": "2019-03-18T10:39:33.241709Z"
    }
   },
   "outputs": [],
   "source": [
    "df = pd.DataFrame({'key': ['A', 'B', 'C', 'A', 'B', 'C'], 'data': range(6)}, columns=['key', 'data'])\n",
    "df"
   ]
  },
  {
   "cell_type": "code",
   "execution_count": null,
   "metadata": {
    "ExecuteTime": {
     "end_time": "2019-03-18T10:39:33.268635Z",
     "start_time": "2019-03-18T10:39:33.261655Z"
    }
   },
   "outputs": [],
   "source": [
    "groups = df.groupby('key')\n",
    "type(groups)"
   ]
  },
  {
   "cell_type": "code",
   "execution_count": null,
   "metadata": {
    "ExecuteTime": {
     "end_time": "2019-03-18T10:39:33.277612Z",
     "start_time": "2019-03-18T10:39:33.271627Z"
    }
   },
   "outputs": [],
   "source": [
    "print(groups)"
   ]
  },
  {
   "cell_type": "code",
   "execution_count": null,
   "metadata": {
    "ExecuteTime": {
     "end_time": "2019-03-18T10:39:33.294565Z",
     "start_time": "2019-03-18T10:39:33.280603Z"
    }
   },
   "outputs": [],
   "source": [
    "groups.sum()"
   ]
  },
  {
   "cell_type": "markdown",
   "metadata": {},
   "source": [
    "Ca functie de agregare se poate folosi orice functie Pandas sau NumPy."
   ]
  },
  {
   "cell_type": "code",
   "execution_count": null,
   "metadata": {
    "ExecuteTime": {
     "end_time": "2019-03-18T10:39:33.310522Z",
     "start_time": "2019-03-18T10:39:33.298556Z"
    }
   },
   "outputs": [],
   "source": [
    "import seaborn as sns\n",
    "planets = sns.load_dataset('planets')"
   ]
  },
  {
   "cell_type": "code",
   "execution_count": null,
   "metadata": {
    "ExecuteTime": {
     "end_time": "2019-03-18T10:39:33.325483Z",
     "start_time": "2019-03-18T10:39:33.313516Z"
    }
   },
   "outputs": [],
   "source": [
    "planets.head()"
   ]
  },
  {
   "cell_type": "code",
   "execution_count": null,
   "metadata": {
    "ExecuteTime": {
     "end_time": "2019-03-18T10:39:33.334459Z",
     "start_time": "2019-03-18T10:39:33.329473Z"
    }
   },
   "outputs": [],
   "source": [
    "# planets.describe()"
   ]
  },
  {
   "cell_type": "code",
   "execution_count": null,
   "metadata": {
    "ExecuteTime": {
     "end_time": "2019-03-18T10:39:33.346428Z",
     "start_time": "2019-03-18T10:39:33.337452Z"
    }
   },
   "outputs": [],
   "source": [
    "planets.method.unique()"
   ]
  },
  {
   "cell_type": "markdown",
   "metadata": {},
   "source": [
    "Pentru grupurile rezultate se poate alege o coloana, pentru care sa se calculeze valori agregate:"
   ]
  },
  {
   "cell_type": "code",
   "execution_count": null,
   "metadata": {
    "ExecuteTime": {
     "end_time": "2019-03-18T10:39:33.361389Z",
     "start_time": "2019-03-18T10:39:33.349419Z"
    }
   },
   "outputs": [],
   "source": [
    "planets.groupby('method')['orbital_period'].median()"
   ]
  },
  {
   "cell_type": "markdown",
   "metadata": {},
   "source": [
    "Grupurile pot fi iterate, returnand pentru fiecare grup un obiect de tip Series sau DataFrame:"
   ]
  },
  {
   "cell_type": "code",
   "execution_count": null,
   "metadata": {
    "ExecuteTime": {
     "end_time": "2019-03-18T10:39:33.383328Z",
     "start_time": "2019-03-18T10:39:33.364379Z"
    }
   },
   "outputs": [],
   "source": [
    "print(f'Number of columns: {len(planets.columns)}')\n",
    "\n",
    "for (method, group) in planets.groupby('method'):\n",
    "    print(\"{0:30s} shape={1}\".format(method, group.shape))"
   ]
  },
  {
   "cell_type": "markdown",
   "metadata": {},
   "source": [
    "Fiecare grup rezultat, fiind vazut ca un Series sau DataFrame, suporta apel de metode aferete acestor obiecte:"
   ]
  },
  {
   "cell_type": "code",
   "execution_count": null,
   "metadata": {
    "ExecuteTime": {
     "end_time": "2019-03-18T10:39:33.472091Z",
     "start_time": "2019-03-18T10:39:33.387318Z"
    }
   },
   "outputs": [],
   "source": [
    "planets.groupby('method')['year'].describe()"
   ]
  },
  {
   "cell_type": "markdown",
   "metadata": {},
   "source": [
    "### Metodele `aggregate()`, `filter()`, `transform()`, `apply()`\n",
    "\n",
    "Inainte de pasul de combinare a datelor se pot folosi metode care implementeaza operatii pe grupurim inainte de a face in final gruparea rezultatelor din grupuri."
   ]
  },
  {
   "cell_type": "code",
   "execution_count": null,
   "metadata": {
    "ExecuteTime": {
     "end_time": "2019-03-18T10:39:33.514976Z",
     "start_time": "2019-03-18T10:39:33.490043Z"
    }
   },
   "outputs": [],
   "source": [
    "df = pd.DataFrame({'key': ['A', 'B', 'C', 'A', 'B', 'C'],\n",
    "'data1': range(6),\n",
    "'data2': np.random.randint(0, 10, 6)},\n",
    "columns = ['key', 'data1', 'data2'])\n",
    "df"
   ]
  },
  {
   "cell_type": "markdown",
   "metadata": {},
   "source": [
    "Metoda `aggregate()` permite specificare de functii prin numele lor (string sau referinta la functie):"
   ]
  },
  {
   "cell_type": "code",
   "execution_count": null,
   "metadata": {
    "ExecuteTime": {
     "end_time": "2019-03-18T10:39:33.560855Z",
     "start_time": "2019-03-18T10:39:33.518968Z"
    }
   },
   "outputs": [],
   "source": [
    "df.groupby('key').aggregate(['min', np.median, max])"
   ]
  },
  {
   "cell_type": "markdown",
   "metadata": {},
   "source": [
    "Filtrarea cu `filter()` permite selectarea doar acelor grupuri care satisfac o anumita conditie:"
   ]
  },
  {
   "cell_type": "code",
   "execution_count": null,
   "metadata": {
    "ExecuteTime": {
     "end_time": "2019-03-18T10:39:33.570827Z",
     "start_time": "2019-03-18T10:39:33.564842Z"
    }
   },
   "outputs": [],
   "source": [
    "def filter_func(x): # x este o linie, corespunzand fiecarui grup\n",
    "    return x['data2'].std() > 4"
   ]
  },
  {
   "cell_type": "code",
   "execution_count": null,
   "metadata": {
    "ExecuteTime": {
     "end_time": "2019-03-18T10:39:33.594763Z",
     "start_time": "2019-03-18T10:39:33.573820Z"
    }
   },
   "outputs": [],
   "source": [
    "df.groupby('key').std()"
   ]
  },
  {
   "cell_type": "code",
   "execution_count": null,
   "metadata": {
    "ExecuteTime": {
     "end_time": "2019-03-18T10:39:33.611718Z",
     "start_time": "2019-03-18T10:39:33.599751Z"
    }
   },
   "outputs": [],
   "source": [
    "df.groupby('key').filter(filter_func)"
   ]
  },
  {
   "cell_type": "markdown",
   "metadata": {},
   "source": [
    "Acelasi efect se obtine cu lambda functii:"
   ]
  },
  {
   "cell_type": "code",
   "execution_count": null,
   "metadata": {
    "ExecuteTime": {
     "end_time": "2019-03-18T10:39:33.633661Z",
     "start_time": "2019-03-18T10:39:33.616705Z"
    }
   },
   "outputs": [],
   "source": [
    "df.groupby('key').filter(lambda row: row['data2'].std() > 4)"
   ]
  },
  {
   "cell_type": "markdown",
   "metadata": {},
   "source": [
    "Transformarea cu `transform()` produce un dataframe cu acelasi numar de linii ca si cel initial, dar cu valorile calculate prin aplicarea unei operatii la nivelul fiecarui grup:"
   ]
  },
  {
   "cell_type": "code",
   "execution_count": null,
   "metadata": {
    "ExecuteTime": {
     "end_time": "2019-03-18T10:39:33.649618Z",
     "start_time": "2019-03-18T10:39:33.636653Z"
    }
   },
   "outputs": [],
   "source": [
    "df"
   ]
  },
  {
   "cell_type": "markdown",
   "metadata": {},
   "source": [
    "Media pe fieare grup este:"
   ]
  },
  {
   "cell_type": "code",
   "execution_count": null,
   "metadata": {
    "ExecuteTime": {
     "end_time": "2019-03-18T10:39:33.671557Z",
     "start_time": "2019-03-18T10:39:33.653606Z"
    }
   },
   "outputs": [],
   "source": [
    "df.groupby('key').mean()"
   ]
  },
  {
   "cell_type": "markdown",
   "metadata": {},
   "source": [
    "Centrarea valorilor pentru fiecare grup - adica: in fiecare grup sa fie media 0 - se face cu:"
   ]
  },
  {
   "cell_type": "code",
   "execution_count": null,
   "metadata": {
    "ExecuteTime": {
     "end_time": "2019-03-18T10:39:33.706470Z",
     "start_time": "2019-03-18T10:39:33.674550Z"
    }
   },
   "outputs": [],
   "source": [
    "df.groupby('key').transform(lambda x: x - x.mean())"
   ]
  },
  {
   "cell_type": "code",
   "execution_count": null,
   "metadata": {
    "ExecuteTime": {
     "end_time": "2019-03-18T10:39:33.731398Z",
     "start_time": "2019-03-18T10:39:33.708459Z"
    }
   },
   "outputs": [],
   "source": [
    "df.groupby('key').transform(lambda x: x - x.mean()).mean()"
   ]
  },
  {
   "cell_type": "markdown",
   "metadata": {},
   "source": [
    "Functia `apply()` permite calculul unei functii peste fiecare grup. Exemplul de mai jos calculeaza prima coloana impartita la suma elementelor din coloana data2, in cadrul fiecarui grup: "
   ]
  },
  {
   "cell_type": "code",
   "execution_count": null,
   "metadata": {
    "ExecuteTime": {
     "end_time": "2019-03-18T10:39:33.757329Z",
     "start_time": "2019-03-18T10:39:33.734390Z"
    }
   },
   "outputs": [],
   "source": [
    "def norm_by_data2(x):\n",
    "    # x is a DataFrame of group values\n",
    "    x['data1'] /= x['data2'].sum()\n",
    "    return x\n",
    "\n",
    "df.groupby('key').apply(norm_by_data2)"
   ]
  },
  {
   "cell_type": "markdown",
   "metadata": {
    "ExecuteTime": {
     "end_time": "2019-03-18T05:22:03.183399Z",
     "start_time": "2019-03-18T05:22:03.159464Z"
    }
   },
   "source": [
    "Functia `apply()` se poate folosi si in afara lui `groupby`, permitand calcul vectorizat de mare viteza:"
   ]
  },
  {
   "cell_type": "code",
   "execution_count": null,
   "metadata": {
    "ExecuteTime": {
     "end_time": "2019-03-18T10:39:33.804204Z",
     "start_time": "2019-03-18T10:39:33.760322Z"
    }
   },
   "outputs": [],
   "source": [
    "data_len = 10000\n",
    "# df_big = pd.DataFrame({'Noise_1': np.random.rand(data_len), 'Noise_2': np.random.rand(data_len), 'Noise_3': np.random.rand(data_len)})\n",
    "\n",
    "df_big = pd.DataFrame({'Noise_' + str(i) : np.random.rand(data_len) for i in range(1, 50)})\n",
    "\n",
    "df_big.head()"
   ]
  },
  {
   "cell_type": "code",
   "execution_count": null,
   "metadata": {
    "ExecuteTime": {
     "end_time": "2019-03-18T10:39:33.819163Z",
     "start_time": "2019-03-18T10:39:33.806199Z"
    }
   },
   "outputs": [],
   "source": [
    "all_noise_columns = [column for column in df_big.columns if column.startswith('Noise_')]\n",
    "\n",
    "row = df_big.iloc[0]\n",
    "row[all_noise_columns] "
   ]
  },
  {
   "cell_type": "code",
   "execution_count": null,
   "metadata": {
    "ExecuteTime": {
     "end_time": "2019-03-18T10:39:33.831132Z",
     "start_time": "2019-03-18T10:39:33.821157Z"
    }
   },
   "outputs": [],
   "source": [
    "np.mean(row[all_noise_columns]) > 0.1"
   ]
  },
  {
   "cell_type": "code",
   "execution_count": null,
   "metadata": {
    "ExecuteTime": {
     "end_time": "2019-03-18T10:45:56.837653Z",
     "start_time": "2019-03-18T10:44:31.476531Z"
    }
   },
   "outputs": [],
   "source": [
    "%%timeit\n",
    "\n",
    "df_big['All_noises'] = df_big.apply(lambda row: np.mean(row[all_noise_columns]) > 0.1, axis=1)\n",
    "\n",
    "# 11 s ± 592 ms per loop (mean ± std. dev. of 7 runs, 1 loop each)?"
   ]
  },
  {
   "cell_type": "code",
   "execution_count": null,
   "metadata": {
    "ExecuteTime": {
     "end_time": "2019-03-18T10:48:16.086903Z",
     "start_time": "2019-03-18T10:45:56.845629Z"
    }
   },
   "outputs": [],
   "source": [
    "%%timeit\n",
    "\n",
    "for index in df_big.index:\n",
    "    df_big.loc[index, 'All_noises'] = np.mean(df_big.loc[index, all_noise_columns]) > 0.1   \n",
    "#     22.5 s ± 592 ms per loop (mean ± std. dev. of 7 runs, 1 loop each)"
   ]
  },
  {
   "cell_type": "markdown",
   "metadata": {},
   "source": [
    "## Tabele pivot"
   ]
  },
  {
   "cell_type": "markdown",
   "metadata": {},
   "source": [
    "!['Titanic'](./images/titanic.jpg)"
   ]
  },
  {
   "cell_type": "code",
   "execution_count": null,
   "metadata": {
    "ExecuteTime": {
     "end_time": "2019-03-18T10:42:08.848014Z",
     "start_time": "2019-03-18T10:42:08.820119Z"
    }
   },
   "outputs": [],
   "source": [
    "# Incarcarea datelor:\n",
    "\n",
    "titanic = sns.load_dataset('titanic')\n",
    "titanic.head()"
   ]
  },
  {
   "cell_type": "markdown",
   "metadata": {},
   "source": [
    "Pornim de la urmatoarea problema: care este procentul de femei si barbati supravietuitori? Diferentierea de gen se face dupa coloana 'sex', iar supravietuirea este in coloana 'survived':"
   ]
  },
  {
   "cell_type": "code",
   "execution_count": null,
   "metadata": {
    "ExecuteTime": {
     "end_time": "2019-03-18T10:42:08.858983Z",
     "start_time": "2019-03-18T10:42:08.850008Z"
    }
   },
   "outputs": [],
   "source": [
    "titanic.groupby('sex')['survived'].mean()"
   ]
  },
  {
   "cell_type": "markdown",
   "metadata": {},
   "source": [
    "Mai departe, se cere determinarea distributiei pe gen si clasa imbarcare, folosind `groupby()`:"
   ]
  },
  {
   "cell_type": "code",
   "execution_count": null,
   "metadata": {
    "ExecuteTime": {
     "end_time": "2019-03-18T10:42:08.876938Z",
     "start_time": "2019-03-18T10:42:08.861976Z"
    }
   },
   "outputs": [],
   "source": [
    "titanic.groupby(['sex', 'class'])['survived'].aggregate('mean').unstack()"
   ]
  },
  {
   "cell_type": "markdown",
   "metadata": {},
   "source": [
    "Acest tip de operatii (grupare dupa doua atribute, calcul de valori agregate) este des intalnit si se numeste pivotare. Pandas introduce suport nativ pentru pivotare, simplificand codul:"
   ]
  },
  {
   "cell_type": "code",
   "execution_count": null,
   "metadata": {
    "ExecuteTime": {
     "end_time": "2019-03-18T10:42:08.904492Z",
     "start_time": "2019-03-18T10:42:08.879928Z"
    }
   },
   "outputs": [],
   "source": [
    "titanic.pivot_table('survived', index='sex', columns='class' )"
   ]
  },
  {
   "cell_type": "markdown",
   "metadata": {},
   "source": [
    "Se poate face pivotare pe mai mult de doua niveluri (mai sus: sex si class). De exemplu, varsta poate fi adaugata pentru analiza, persoane sub 18 ani (copii) si cei peste 18 (adulti). In primul pas se poate face impartirea persoanelor pe cele doua subintervale de varsta (<=18, >18) folosind `cut`:"
   ]
  },
  {
   "cell_type": "code",
   "execution_count": null,
   "metadata": {
    "ExecuteTime": {
     "end_time": "2019-03-18T10:42:08.915461Z",
     "start_time": "2019-03-18T10:42:08.906499Z"
    }
   },
   "outputs": [],
   "source": [
    "age = pd.cut(titanic['age'], [0, 18, 80], labels=['child', 'adult'])\n",
    "age.head(15)"
   ]
  },
  {
   "cell_type": "code",
   "execution_count": null,
   "metadata": {
    "ExecuteTime": {
     "end_time": "2019-03-18T10:42:08.949373Z",
     "start_time": "2019-03-18T10:42:08.917459Z"
    }
   },
   "outputs": [],
   "source": [
    "titanic.pivot_table('survived', ['sex', age], 'class')"
   ]
  },
  {
   "cell_type": "code",
   "execution_count": null,
   "metadata": {
    "ExecuteTime": {
     "end_time": "2019-03-18T10:42:08.958380Z",
     "start_time": "2019-03-18T10:42:08.951397Z"
    }
   },
   "outputs": [],
   "source": [
    "fare_split = pd.cut(titanic.fare, 2, labels=['cheap fare', 'expensive fare'])"
   ]
  },
  {
   "cell_type": "code",
   "execution_count": null,
   "metadata": {
    "ExecuteTime": {
     "end_time": "2019-03-18T10:42:08.970314Z",
     "start_time": "2019-03-18T10:42:08.961339Z"
    }
   },
   "outputs": [],
   "source": [
    "fare_split"
   ]
  },
  {
   "cell_type": "code",
   "execution_count": null,
   "metadata": {
    "ExecuteTime": {
     "end_time": "2019-03-18T10:42:09.039865Z",
     "start_time": "2019-03-18T10:42:08.973307Z"
    }
   },
   "outputs": [],
   "source": [
    "titanic.pivot_table('survived', ['sex', age, fare_split], 'class')"
   ]
  },
  {
   "cell_type": "code",
   "execution_count": null,
   "metadata": {},
   "outputs": [],
   "source": []
  }
 ],
 "metadata": {
  "kernelspec": {
   "display_name": "Python 3",
   "language": "python",
   "name": "python3"
  },
  "language_info": {
   "codemirror_mode": {
    "name": "ipython",
    "version": 3
   },
   "file_extension": ".py",
   "mimetype": "text/x-python",
   "name": "python",
   "nbconvert_exporter": "python",
   "pygments_lexer": "ipython3",
   "version": "3.7.2"
  },
  "toc": {
   "base_numbering": 1,
   "nav_menu": {},
   "number_sections": true,
   "sideBar": true,
   "skip_h1_title": false,
   "title_cell": "Table of Contents",
   "title_sidebar": "Contents",
   "toc_cell": false,
   "toc_position": {},
   "toc_section_display": true,
   "toc_window_display": true
  }
 },
 "nbformat": 4,
 "nbformat_minor": 2
}
