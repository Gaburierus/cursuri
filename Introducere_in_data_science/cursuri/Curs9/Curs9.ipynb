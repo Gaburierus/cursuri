{
 "cells": [
  {
   "cell_type": "markdown",
   "metadata": {},
   "source": [
    "# Curs 9"
   ]
  },
  {
   "cell_type": "markdown",
   "metadata": {},
   "source": [
    "## Abordarea unei probleme prin ML"
   ]
  },
  {
   "cell_type": "markdown",
   "metadata": {},
   "source": [
    "Pasii pentru abordarea unei probleme din sfera Data Science sunt:\n",
    "1. Determinarea tipul ui de rezultat dorit: explorare de date sau determinarea unui pattern in date?\n",
    "1. Exista un scop particular vizat? de exemplu, analiza de asocieri, clasificare, estimarea valorii viitoare a unei serii de date, regresie, grupare de date, detectare de anomalii (outlier detection)\n",
    "    1. Se defineste o masura de succes: acuratetea de clasificare sau scor F1, mean squared error etc.\n",
    "    1. Exista suficiente date pentru a masura succesul aplicatiei?\n",
    "    1. Care este impactul asupra business-ului? marirea acuratetei cu 1% duce la recuperarea investieiiti de timp pentru determinarea unui model mai performant?\n",
    "1. Achizitionarea de date\n",
    "1. Curatarea lor, tratarea situatiilor anormale - valori lipsa, valori in contradictie cu domain knowledge\n",
    "1. elaborarea modelelor, evaluarea lor\n",
    "1. Decizie: e  nevoie de mai multe date sau de alte modele sau de alte valori ale hiperparmetrilor pentru modele?"
   ]
  },
  {
   "cell_type": "markdown",
   "metadata": {},
   "source": [
    "## Humans in the loop\n",
    "\n",
    "Uneori, prezenta oamenilor este necesara in procese de DS, in parti oarecare ale fluxului de procesare. Daca insa un algoritm instruibil poate sa obtina o automatizare a unui pas, cu un grad mare de succes, atunci se permite unui om sa isi dedice capacitatea unei alte sarcini. \n",
    "\n",
    "Exemplu: diagnosticare; acolo unde rezultatele sunt cu incertitudine mare, se poate apela la conostintele unui expert. "
   ]
  },
  {
   "cell_type": "markdown",
   "metadata": {},
   "source": [
    "## De la prototip la productie\n",
    "\n",
    "## Testarea sistemului in productie\n",
    "\n",
    "## Aderare la framework-uri\n",
    "\n",
    "## Pasii urmatori\n",
    "\n"
   ]
  }
 ],
 "metadata": {
  "kernelspec": {
   "display_name": "Python 3",
   "language": "python",
   "name": "python3"
  },
  "language_info": {
   "codemirror_mode": {
    "name": "ipython",
    "version": 3
   },
   "file_extension": ".py",
   "mimetype": "text/x-python",
   "name": "python",
   "nbconvert_exporter": "python",
   "pygments_lexer": "ipython3",
   "version": "3.6.5"
  }
 },
 "nbformat": 4,
 "nbformat_minor": 2
}
