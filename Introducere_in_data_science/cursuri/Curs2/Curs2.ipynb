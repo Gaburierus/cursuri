{
 "cells": [
  {
   "cell_type": "markdown",
   "metadata": {},
   "source": [
    "# Curs 2: Module si pachete Python, NumPy, grafice"
   ]
  },
  {
   "cell_type": "markdown",
   "metadata": {},
   "source": [
    "## Module"
   ]
  },
  {
   "cell_type": "markdown",
   "metadata": {},
   "source": [
    "Modulele sunt fisiere Python cu extensia .py, in care se gasesc implementari de functii, clase, declaratii de variabile. Importarea unui modul se face cu instructiunea `import`. \n",
    "\n",
    "Exemplu: cream un modul - fisierul Python mySmartModule.py - care contine o functie ce calculeaza suma elementelor dintr-o lista:\n",
    "\n",
    "\n",
    "```python\n",
    "#fisierul mySmartModule.py\n",
    "def my_sum(lista):\n",
    "    sum = 0\n",
    "    for item in lista:\n",
    "        sum += item\n",
    "    return sum\n",
    "```\n",
    "\n",
    "Utilizarea se face cu:\n",
    "```python\n",
    "import mySmartModule\n",
    "\n",
    "lista = [1, 2, 3]\n",
    "\n",
    "suma = mySmartModule.my_sum(lista)\n",
    "print(suma)\n",
    "```"
   ]
  },
  {
   "cell_type": "markdown",
   "metadata": {},
   "source": [
    "Se poate ca modulul sa fie importat cu un nume mai scurt, sub forma:\n",
    "```python\n",
    "import mySmartModule as msm\n",
    "```\n",
    "si in acest caz apelul se face cu:\n",
    "```python\n",
    "suma = msm.my_sum(lista)\n",
    "```"
   ]
  },
  {
   "cell_type": "markdown",
   "metadata": {},
   "source": [
    "Putem afla ce pune la dispozitie un modul:\n",
    "```python\n",
    ">>> dir(msm)\n",
    "['__builtins__', '__cached__', '__doc__', '__file__', '__loader__', '__name__', '__package__', '__spec__', 'my_sum']\n",
    "```\n",
    "elementele aflate intre dublu underscore ('dunders') sunt adaugate automat de Python. "
   ]
  },
  {
   "cell_type": "markdown",
   "metadata": {},
   "source": [
    "Daca se doreste ca tot ceea ce e definit intr-un modul sa fie disponibil fara a mai face prefixare cu `nume_modul.nume_entitate`, atunci se poate proceda astfel:\n",
    "```python\n",
    "from mySmartModule import *\n",
    "\n",
    "print(my_sum([1, 2, 3]))\n",
    "```\n",
    "Se recomanda insa sa se importe strict acele entitati (functii, tipuri) din modul care sunt utilizate; in felul acesta se evita suprascrierea prin import al altor entitati deja importate:\n",
    "```python\n",
    "from mySmartModule import my_sum\n",
    "\n",
    "print(my_sum([1, 2, 3]))\n",
    "```"
   ]
  },
  {
   "cell_type": "markdown",
   "metadata": {},
   "source": [
    "Ordinea de cautare a modulelor este:\n",
    "1. directorul curent\n",
    "1. daca nu se gaseste modulul cerut, se cauta in variabila de mediu `PYTHONPATH`, daca e definita\n",
    "1. daca nu se gaseste modulul cerut, se cauta in calea implicita.\n",
    "\n",
    "Calea de cautare implicita se gaseste in variabila `path` din modulul sistem `sys`:"
   ]
  },
  {
   "cell_type": "code",
   "execution_count": 129,
   "metadata": {},
   "outputs": [
    {
     "name": "stdout",
     "output_type": "stream",
     "text": [
      "['', 'C:\\\\Anaconda3\\\\python36.zip', 'C:\\\\Anaconda3\\\\DLLs', 'C:\\\\Anaconda3\\\\lib', 'C:\\\\Anaconda3', 'C:\\\\Anaconda3\\\\lib\\\\site-packages', 'C:\\\\Anaconda3\\\\lib\\\\site-packages\\\\Babel-2.5.0-py3.6.egg', 'C:\\\\Anaconda3\\\\lib\\\\site-packages\\\\win32', 'C:\\\\Anaconda3\\\\lib\\\\site-packages\\\\win32\\\\lib', 'C:\\\\Anaconda3\\\\lib\\\\site-packages\\\\Pythonwin', 'C:\\\\Anaconda3\\\\lib\\\\site-packages\\\\IPython\\\\extensions', 'C:\\\\Users\\\\Lucian\\\\.ipython', '.\\\\my_modules\\\\']\n"
     ]
    }
   ],
   "source": [
    "import sys\n",
    "print(sys.path)"
   ]
  },
  {
   "cell_type": "markdown",
   "metadata": {},
   "source": [
    "Daca se doreste ca un modul scris de utilizator intr-un director ce nu se gaseste in lista de mai sus sa fie accesibil pentru import, atunci calea catre director trebuie adaugata la colectia sys.path:"
   ]
  },
  {
   "cell_type": "code",
   "execution_count": 130,
   "metadata": {},
   "outputs": [
    {
     "name": "stdout",
     "output_type": "stream",
     "text": [
      "6\n"
     ]
    }
   ],
   "source": [
    "sys.path.append('.\\\\my_modules\\\\')\n",
    "from mySmartModule import my_sum\n",
    "print(my_sum([1, 2, 3]))"
   ]
  },
  {
   "cell_type": "markdown",
   "metadata": {},
   "source": [
    "Un modul se poate folosi in doua feluri: \n",
    "1. pentru a pune la dispozitie diferite implementari de functii sau de clase, sau variabile setate la anumite valori (de exemplu `math.pi`):\n",
    "```python\n",
    "import math\n",
    "print(math.pi)\n",
    "```\n",
    "2. se poate lansa de sine statator, scriind in lina de comanda: `python mySmartModule`. Pentru acest caz, daca se vrea ca sa se execute o anumita secventa de cod, atunci se va folosi:\n",
    "```python\n",
    "if __name__ == '__main__':\n",
    "    #cod care se executa la lansarea directa a script-ului\n",
    "```\n",
    "\n",
    "Codul din sectiunea `if` scrisa ca mai sus nu se va executa cand modulul este importat.\n",
    "\n",
    "Exemplu:\n",
    "```python\n",
    "def my_sum(lista):\n",
    "    sum = 0\n",
    "    for item in lista:\n",
    "        sum += item\n",
    "    return sum\n",
    "\t\n",
    "if __name__ == '__main__':\n",
    "\tprint('Exemplu de utilizare')\n",
    "\tlista = list(range(100))\n",
    "\tprint(my_sum(lista))\n",
    "```"
   ]
  },
  {
   "cell_type": "markdown",
   "metadata": {},
   "source": [
    "Alte exemple de utilizare de pachete sunt:"
   ]
  },
  {
   "cell_type": "code",
   "execution_count": 131,
   "metadata": {},
   "outputs": [
    {
     "name": "stdout",
     "output_type": "stream",
     "text": [
      "['Am', 'cumparat', 'mere', 'pere', 'prune', 'si', 'caise']\n"
     ]
    }
   ],
   "source": [
    "import re #pachet pentru expresii regulate\n",
    "my_string = 'Am cumparat: mere, pere, prune... si caise'\n",
    "tokens = re.split(r'\\W+', my_string)\n",
    "print(tokens)"
   ]
  },
  {
   "cell_type": "code",
   "execution_count": 132,
   "metadata": {},
   "outputs": [
    {
     "name": "stdout",
     "output_type": "stream",
     "text": [
      "dupa deserializare: {'lion': 'yellow', 'kitty': 'red'}\n"
     ]
    }
   ],
   "source": [
    "# Serializare cu pickle\n",
    "import pickle\n",
    "\n",
    "favorite_color = { \"lion\": \"yellow\", \"kitty\": \"red\" }\n",
    "\n",
    "pickle.dump( favorite_color, open( \"save.pkl\", \"wb\" ) )\n",
    "del favorite_color #nu mai e necesar\n",
    "\n",
    "#restaurare\n",
    "favorite_color_restored = pickle.load( open( \"save.pkl\", \"rb\" ) )\n",
    "print('dupa deserializare:', favorite_color_restored)\n",
    "\n",
    "!del save.pkl #sterge fisierul pickle de pe disk"
   ]
  },
  {
   "cell_type": "markdown",
   "metadata": {},
   "source": [
    "## Pachete Python"
   ]
  },
  {
   "cell_type": "markdown",
   "metadata": {},
   "source": [
    "Un pachet este o colectie de module. Fizic, un modul este o structura ierarhica de directoare in care se gasesc module si alte pachete. Este obligatoriu ca in orice director care se doreste a fi vazut ca un pachet sa existe un fisier numit `__init__.py`. In prima faza, `__init__.py` poate fi gol. Plecam de la structura de directoare si fisiere:\n",
    "```\n",
    "---myUtils\\\n",
    " |------ mySmartModule.py\n",
    " |------ __init__.py\n",
    "```"
   ]
  },
  {
   "cell_type": "markdown",
   "metadata": {},
   "source": [
    "Pentru importul functiei `my_sum` din fisierul `mySmartModule.py` aflat in directorul `myUtil` - care se doreste a fi pachet - s-ar scrie astfel:\n",
    "```python\n",
    "from myUtils.mySmartModule import my_sum\n",
    "print(my_sum([1, 2, 3]))\n",
    "```\n",
    "dar am prefera sa putem scrie:\n",
    "```python\n",
    "from myUtils import my_sum\n",
    "print(my_sum([1, 2, 30]))\n",
    "```\n",
    "adica sa nu mai referim modulul (fisierul) `mySmartModule` din cadrul pachetului `myUtil`. Pentru asta vom adauga in fisierul `__init__.py` din directorul `myUtils` linia:\n",
    "```python\n",
    "from .mySmartModule import my_sum \n",
    "```\n",
    "unde caracterul `.` de dinaintea numelui de modul `mySmartModule` se refera la calea relativa. "
   ]
  },
  {
   "cell_type": "code",
   "execution_count": 133,
   "metadata": {},
   "outputs": [
    {
     "name": "stdout",
     "output_type": "stream",
     "text": [
      "313\n"
     ]
    }
   ],
   "source": [
    "from myUtils.mySmartModule import my_sum\n",
    "print(my_sum([1, 2, 10, 300]))"
   ]
  },
  {
   "cell_type": "code",
   "execution_count": 134,
   "metadata": {},
   "outputs": [
    {
     "name": "stdout",
     "output_type": "stream",
     "text": [
      "313\n"
     ]
    }
   ],
   "source": [
    "from myUtils import my_sum\n",
    "print(my_sum([1, 2, 10, 300]))"
   ]
  },
  {
   "cell_type": "markdown",
   "metadata": {},
   "source": [
    "In fisierul `__init__.py` se obisnuieste sa se puna orice are legatura cu initializarea pachetului, cum ar fi incarcarea de date de pe disc in memorie sau setarea unor variabile la valori anume."
   ]
  },
  {
   "cell_type": "markdown",
   "metadata": {},
   "source": [
    "Pentru cazul in care se doreste crearea de pachete destinate comunitatii si publicarea pe PyPI, se va urma [acest tutorial](https://python-packaging.readthedocs.io/en/latest/)."
   ]
  },
  {
   "cell_type": "markdown",
   "metadata": {},
   "source": [
    "## Pachetul NumPy"
   ]
  },
  {
   "cell_type": "markdown",
   "metadata": {},
   "source": [
    "NumPy (Numerical Python) este pachetul de baza pentru calcule stiintifice in Python. Asigura suport pentru lucrul cu vectori si matrice multidimensionale, functii dedicate precum sortare, operatii din algebra liniara, procesare de semnal, calcule statistice de baza, generare de numere aleatoare etc. NumPy sta la baza multor altor pachete. Datele pe care le proceseaza trebuie sa incapa in memoria RAM. NumPy are la baza cod C compilat si optimizat. \n",
    "\n",
    "In destul de multe situatii, datele sunt sau pot fi transformate in numere:\n",
    "* o imagine in tonuri de gri poate fi vazuta ca o matrice bidimensionala de numere; fiecare numar reprezinta intensitatea pixelului (0 - negru, 255 - alb; frecvent se folosesc valorile scalate in intevalul [0, 1])\n",
    "![Imagine minsi scalata 0-1](./images/mnist_image.png)\n",
    "* o imagine color poate fi vazuta ca o matrice cu trei dimensiuni: 3 matrice bidimensionale \"paralele\", corespunzatoare canalelor red, green, blue; pentru fiecare canal de culoare valorile pot fi intre 0 si 255:\n",
    "![Imagine RGB descompusa in 3 canale](./images/rgb_image.png)\n",
    "* un fisir audio este vazut ca unul/doi/$k$ vectori dimensionali, corespunzatoare cazurilor: mono, stereo, $k$ canale. Valorile numerice in cazul unui fisier wav reprezinta amplitudinea sunetului;:\n",
    "![sunet](./images/sound.png)\n",
    "* un text poate fi tradus in vectori numerici prin tehnici precum [Bag of words](https://en.wikipedia.org/wiki/Bag-of-words_model) sau [Word2vec](https://en.wikipedia.org/wiki/Word2vec).\n",
    "\n",
    "Reprezentarea este mult mai eficienta decat pentru listele Python; codul scris cu NumPy apeleaza biblioteci compilate in cod nativ. Daca codul este scris vectorizat, eficienta rularii e si mai mare. \n",
    "\n",
    "Tipul cel mai comun din NumPy este ndarray - n-dimensional array. "
   ]
  },
  {
   "cell_type": "code",
   "execution_count": 135,
   "metadata": {},
   "outputs": [
    {
     "name": "stdout",
     "output_type": "stream",
     "text": [
      "<class 'numpy.ndarray'>\n",
      "int32\n",
      "float16\n"
     ]
    }
   ],
   "source": [
    "#import de pachet; traditional se foloseste abrevierea np pentru numpy\n",
    "import numpy as np\n",
    "\n",
    "#crearea unui vector pornind de la o lista Python\n",
    "x = np.array([1, 4, 2, 5, 3])\n",
    "\n",
    "#tipul variabilei x; se observa ca e tip numpy\n",
    "print(type(x)) \n",
    "#toate elementele din array sunt de acelasi tip\n",
    "print(x.dtype) \n",
    "\n",
    "#specificarea explicita a tipului de reprezentare a datelor in array\n",
    "y = np.array([1, 2, 3], dtype=np.float16)\n",
    "print(y.dtype)"
   ]
  },
  {
   "cell_type": "code",
   "execution_count": 136,
   "metadata": {},
   "outputs": [
    {
     "name": "stdout",
     "output_type": "stream",
     "text": [
      "[0 0 0 0 0 0 0 0 0 0]\n",
      "(10,)\n"
     ]
    }
   ],
   "source": [
    "#cazuri frecvent folosite\n",
    "all_zeros = np.zeros(10, dtype=int)\n",
    "print(all_zeros)\n",
    "#tiparire nr de elemente pe fiecare dimensiune\n",
    "print(all_zeros.shape)"
   ]
  },
  {
   "cell_type": "code",
   "execution_count": 137,
   "metadata": {},
   "outputs": [
    {
     "name": "stdout",
     "output_type": "stream",
     "text": [
      "[[1 2 3]\n",
      " [4 5 6]]\n",
      "(2, 3)\n",
      "2\n"
     ]
    }
   ],
   "source": [
    "#matrice 2d\n",
    "mat = np.array([[1, 2, 3], [4, 5, 6]])\n",
    "print(mat)\n",
    "print(mat.shape)\n",
    "print(mat[0, 1])"
   ]
  },
  {
   "cell_type": "markdown",
   "metadata": {},
   "source": [
    "Numarul de dimensiuni se determina cu:"
   ]
  },
  {
   "cell_type": "code",
   "execution_count": 138,
   "metadata": {},
   "outputs": [
    {
     "name": "stdout",
     "output_type": "stream",
     "text": [
      "Numarul de dimensiuni pentru vectorul all_zero: 1\n",
      "Numarul de dimensiuni pentru matricea mat: 2\n"
     ]
    }
   ],
   "source": [
    "print('Numarul de dimensiuni pentru vectorul all_zero:', all_zeros.ndim)\n",
    "print('Numarul de dimensiuni pentru matricea mat:', mat.ndim)"
   ]
  },
  {
   "cell_type": "markdown",
   "metadata": {},
   "source": [
    "iar numarul total de elemente, respectiv dimensiunea in octeti a unui element oarecare (o matrice are elemente de acelasi tip, intotdeauna):"
   ]
  },
  {
   "cell_type": "code",
   "execution_count": 139,
   "metadata": {},
   "outputs": [
    {
     "name": "stdout",
     "output_type": "stream",
     "text": [
      "mat size: 6\n",
      "mat element size: 4 bytes\n",
      "mat.dtype:int32\n"
     ]
    }
   ],
   "source": [
    "print('mat size: {0}\\nmat element size: {1} bytes\\nmat.dtype:{2}'.format(mat.size, mat.itemsize, mat.dtype))"
   ]
  },
  {
   "cell_type": "code",
   "execution_count": 140,
   "metadata": {},
   "outputs": [
    {
     "name": "stdout",
     "output_type": "stream",
     "text": [
      "[[ 1.  1.  1.  1.  1.]\n",
      " [ 1.  1.  1.  1.  1.]\n",
      " [ 1.  1.  1.  1.  1.]]\n",
      "[[ 3.14159265  3.14159265]\n",
      " [ 3.14159265  3.14159265]\n",
      " [ 3.14159265  3.14159265]]\n",
      "[[ 1.  0.  0.]\n",
      " [ 0.  1.  0.]\n",
      " [ 0.  0.  1.]]\n"
     ]
    }
   ],
   "source": [
    "#cazuri comune\n",
    "all_ones = np.ones((3, 5))\n",
    "print(all_ones)\n",
    "all_pi = np.full((3, 2), np.pi)\n",
    "print(all_pi)\n",
    "print(np.eye(3))"
   ]
  },
  {
   "cell_type": "code",
   "execution_count": 141,
   "metadata": {},
   "outputs": [
    {
     "name": "stdout",
     "output_type": "stream",
     "text": [
      "[  0.    2.5   5.    7.5  10. ]\n"
     ]
    }
   ],
   "source": [
    "#valori echidistante intr-un interval; capetele intervalului fac parte din valorile generate\n",
    "print(np.linspace(0, 10, 5))"
   ]
  },
  {
   "cell_type": "code",
   "execution_count": 142,
   "metadata": {},
   "outputs": [],
   "source": [
    "#similar cu functia range din Python: se genereaza de la primul parametru, cu pasul dat de al doilea parametru, ultima vaoare generata fiind strict mai mica decat al doilea parametru\n",
    "vector_de_valori = np.arange(0, 10, 3)"
   ]
  },
  {
   "cell_type": "markdown",
   "metadata": {},
   "source": [
    "Se poate modifica forma unui array:"
   ]
  },
  {
   "cell_type": "code",
   "execution_count": 143,
   "metadata": {},
   "outputs": [
    {
     "name": "stdout",
     "output_type": "stream",
     "text": [
      "(2, 2)\n",
      "(4,)\n"
     ]
    }
   ],
   "source": [
    "matrice_din_vector = vector_de_valori.reshape((2, 2))\n",
    "print(matrice_din_vector.shape)\n",
    "print(vector_de_valori.shape)"
   ]
  },
  {
   "cell_type": "code",
   "execution_count": 144,
   "metadata": {},
   "outputs": [
    {
     "name": "stdout",
     "output_type": "stream",
     "text": [
      "[[ 0.13118596  0.71359562  0.74607159]\n",
      " [ 0.10069814  0.90693615  0.54317466]]\n"
     ]
    }
   ],
   "source": [
    "#numere aleatoare\n",
    "x = np.random.random((2, 3))\n",
    "print(x)"
   ]
  },
  {
   "cell_type": "markdown",
   "metadata": {},
   "source": [
    "Tipurile de date folosibile pentru ndarrays sunt:\n",
    "\n",
    "| Tip  | Explicatie |\n",
    "| ---- | -----------|\n",
    "| bool_ | \tBoolean (True or False) stored as a byte | \n",
    "| int_ | \tDefault integer type (same as C long; normally either int64 or int32) | \n",
    "| intc | \tIdentical to C int (normally int32 or int64) | \n",
    "| intp | \tInteger used for indexing (same as C ssize_t; normally either int32 or int64) | \n",
    "| int8 | \tByte (-128 to 127) | \n",
    "| int16 | \tInteger (-32768 to 32767) | \n",
    "| int32 | \tInteger (-2147483648 to 2147483647) | \n",
    "| int64 | \tInteger (-9223372036854775808 to 9223372036854775807) | \n",
    "| uint8 | \tUnsigned integer (0 to 255) | \n",
    "| uint16 | \tUnsigned integer (0 to 65535) | \n",
    "| uint32 | \tUnsigned integer (0 to 4294967295) | \n",
    "| uint64 | \tUnsigned integer (0 to 18446744073709551615) | \n",
    "| float_ | \tShorthand for float64. | \n",
    "| float16 | \tHalf precision float: sign bit, 5 bits exponent, 10 bits mantissa | \n",
    "| float32 | \tSingle precision float: sign bit, 8 bits exponent, 23 bits mantissa | \n",
    "| float64 | \tDouble precision float: sign bit, 11 bits exponent, 52 bits mantissa | \n",
    "| complex_ | \tShorthand for complex128. | \n",
    "| complex64 | \tComplex number, represented by two 32-bit floats (real and imaginary components) | \n",
    "| complex128 | \tComplex number, represented by two 64-bit floats (real and imaginary components) |"
   ]
  },
  {
   "cell_type": "markdown",
   "metadata": {},
   "source": [
    "O operatie utila este schimbarea formei unui array:"
   ]
  },
  {
   "cell_type": "code",
   "execution_count": 145,
   "metadata": {},
   "outputs": [
    {
     "name": "stdout",
     "output_type": "stream",
     "text": [
      "[0 1 2 3 4 5 6 7 8 9]\n",
      "[[0 1 2 3 4]\n",
      " [5 6 7 8 9]]\n"
     ]
    }
   ],
   "source": [
    "#dintr=un vector intr-o matrice\n",
    "vec = np.arange(10)\n",
    "mat = vec.reshape(2, 5)\n",
    "print(vec)\n",
    "print(mat)"
   ]
  },
  {
   "cell_type": "code",
   "execution_count": 146,
   "metadata": {},
   "outputs": [
    {
     "name": "stdout",
     "output_type": "stream",
     "text": [
      "[0 1 2 3 4 5 6 7 8 9]\n"
     ]
    }
   ],
   "source": [
    "#...si invers:\n",
    "vec2 = mat.flatten()\n",
    "print(vec2)"
   ]
  },
  {
   "cell_type": "markdown",
   "metadata": {},
   "source": [
    "Tablourile pot fi concatenate, specificandu-se axa"
   ]
  },
  {
   "cell_type": "code",
   "execution_count": 147,
   "metadata": {},
   "outputs": [],
   "source": [
    "a = np.array([[1, 2], [3, 4]], float)\n",
    "b = np.array([[5, 6], [7,8]], float)"
   ]
  },
  {
   "cell_type": "code",
   "execution_count": 148,
   "metadata": {},
   "outputs": [
    {
     "name": "stdout",
     "output_type": "stream",
     "text": [
      "[[ 1.  2.]\n",
      " [ 3.  4.]\n",
      " [ 5.  6.]\n",
      " [ 7.  8.]]\n"
     ]
    }
   ],
   "source": [
    "#concatenare pe verticala\n",
    "stiva_verticala = np.concatenate((a, b), axis=0)\n",
    "print(stiva_verticala)"
   ]
  },
  {
   "cell_type": "code",
   "execution_count": 149,
   "metadata": {},
   "outputs": [
    {
     "name": "stdout",
     "output_type": "stream",
     "text": [
      "[[ 1.  2.  5.  6.]\n",
      " [ 3.  4.  7.  8.]]\n"
     ]
    }
   ],
   "source": [
    "#concatenare pe orizontala\n",
    "stiva_orizontala = np.concatenate((a, b), axis=1)\n",
    "print(stiva_orizontala)"
   ]
  },
  {
   "cell_type": "code",
   "execution_count": 150,
   "metadata": {},
   "outputs": [
    {
     "name": "stdout",
     "output_type": "stream",
     "text": [
      "[[ 1.  2.]\n",
      " [ 3.  4.]\n",
      " [ 5.  6.]\n",
      " [ 7.  8.]]\n",
      "[[ 1.  2.  5.  6.]\n",
      " [ 3.  4.  7.  8.]]\n"
     ]
    }
   ],
   "source": [
    "#echivalent cu:\n",
    "stiva_verticala = np.vstack((a, b))\n",
    "stiva_orizontala = np.hstack((a, b))\n",
    "print(stiva_verticala)\n",
    "print(stiva_orizontala)"
   ]
  },
  {
   "cell_type": "markdown",
   "metadata": {},
   "source": [
    "Conceptul de axa se defineste pentru tabpurile cu mai mult de o dimensiune. Pentru un tablou cu doua dimensiuni, axa 0 parcurge pe verticala tabloul, axa 1 parcurge pe orizontala. Unele funtii iau in considerare axa de lucru:"
   ]
  },
  {
   "cell_type": "code",
   "execution_count": 151,
   "metadata": {},
   "outputs": [
    {
     "name": "stdout",
     "output_type": "stream",
     "text": [
      "[[ 0  1  2  3  4]\n",
      " [ 5  6  7  8  9]\n",
      " [10 11 12 13 14]]\n"
     ]
    }
   ],
   "source": [
    "matrice = np.arange(15).reshape(3, 5)\n",
    "print(matrice)"
   ]
  },
  {
   "cell_type": "code",
   "execution_count": 152,
   "metadata": {},
   "outputs": [
    {
     "name": "stdout",
     "output_type": "stream",
     "text": [
      "[15 18 21 24 27]\n"
     ]
    }
   ],
   "source": [
    "suma_pe_coloane= np.sum(matrice, axis=0)\n",
    "print(suma_pe_coloane)"
   ]
  },
  {
   "cell_type": "code",
   "execution_count": 153,
   "metadata": {},
   "outputs": [
    {
     "name": "stdout",
     "output_type": "stream",
     "text": [
      "[10 35 60]\n"
     ]
    }
   ],
   "source": [
    "suma_pe_linii= np.sum(matrice, axis=1)\n",
    "print(suma_pe_linii)"
   ]
  },
  {
   "cell_type": "markdown",
   "metadata": {},
   "source": [
    "### Operatii cu ndarrays\n",
    "\n",
    "Sunt implementate operatiile matematice uzuale din algebra liniara: inmultire cu scalari, adunare, scadere, inmultire de matrice.\n",
    "\n",
    "Exemple:\n",
    "adunare\n",
    "produs hadamard, produs matricial, produs scalar:\n"
   ]
  },
  {
   "cell_type": "code",
   "execution_count": 154,
   "metadata": {},
   "outputs": [
    {
     "name": "stdout",
     "output_type": "stream",
     "text": [
      "a=\n",
      " [[1 2 3]\n",
      " [4 5 6]]\n",
      "b=\n",
      " [[10 20 30]\n",
      " [40 50 60]]\n"
     ]
    }
   ],
   "source": [
    "#inmultire cu scalar\n",
    "a = np.array([[1, 2, 3], [4, 5, 6]])\n",
    "print('a=\\n', a)\n",
    "b = a * 10\n",
    "print('b=\\n', b)"
   ]
  },
  {
   "cell_type": "code",
   "execution_count": 155,
   "metadata": {},
   "outputs": [
    {
     "name": "stdout",
     "output_type": "stream",
     "text": [
      "[[11 22 33]\n",
      " [44 55 66]]\n",
      "[[ -9 -18 -27]\n",
      " [-36 -45 -54]]\n"
     ]
    }
   ],
   "source": [
    "#adunare, scadere: +, -\n",
    "suma = a + b\n",
    "print(suma)\n",
    "diferenta = a - b\n",
    "print(diferenta)"
   ]
  },
  {
   "cell_type": "markdown",
   "metadata": {},
   "source": [
    "Operatorul de inmultire \\* este implementat altfel decat in algebra liniara: pentru doua matrice cu aceleasi dimensiuni se face inmultirea elementelor aflate pe pozitii identice, adica: c[i, j] = a[i, j] * b[i, j]. Este asa numitul produs Hadamard, frecvent intalnit in machine learning."
   ]
  },
  {
   "cell_type": "code",
   "execution_count": 156,
   "metadata": {},
   "outputs": [
    {
     "name": "stdout",
     "output_type": "stream",
     "text": [
      "[[ 10  40  90]\n",
      " [160 250 360]]\n",
      "True\n",
      "True\n",
      "True\n",
      "True\n",
      "True\n",
      "True\n"
     ]
    }
   ],
   "source": [
    "#inmultirea folosind * duce la inmultire element cu element (produs Hadamard): c[i, j] = a[i, j] * b[i, j]\n",
    "c = a*b\n",
    "print(c)\n",
    "for i in range(c.shape[0]):  #c.shape[0] = numarul de linii ale matricei c\n",
    "    for j in range(c.shape[1]): #c.shape[1] = numarul de coloane ale matricei c\n",
    "        print(c[i, j] == a[i, j] * b[i, j])"
   ]
  },
  {
   "cell_type": "markdown",
   "metadata": {},
   "source": [
    "Operatiile folosesc biblioteci de algebra liniare, optimizate pentru microprocesoarele actuale. Se recomanda folosirea acestor implementari in loc de a face operatiile manual cu ciclari `for`:"
   ]
  },
  {
   "cell_type": "code",
   "execution_count": 157,
   "metadata": {},
   "outputs": [],
   "source": [
    "#creare de matrice\n",
    "matrix_shape = (100, 100)\n",
    "a_big = np.random.random(matrix_shape)\n",
    "b_big = np.random.random(matrix_shape)"
   ]
  },
  {
   "cell_type": "code",
   "execution_count": 158,
   "metadata": {},
   "outputs": [
    {
     "name": "stdout",
     "output_type": "stream",
     "text": [
      "The slowest run took 4.25 times longer than the fastest. This could mean that an intermediate result is being cached.\n",
      "24.1 ms ± 13.6 ms per loop (mean ± std. dev. of 7 runs, 10 loops each)\n"
     ]
    }
   ],
   "source": [
    "%%timeit\n",
    "c_big = np.empty_like(a_big)\n",
    "for i in range(c_big.shape[0]):\n",
    "    for j in range(c_big.shape[1]):\n",
    "        c_big[i, j] = a_big[i, j] * b_big[i, j]"
   ]
  },
  {
   "cell_type": "code",
   "execution_count": 159,
   "metadata": {},
   "outputs": [
    {
     "name": "stdout",
     "output_type": "stream",
     "text": [
      "33.4 µs ± 8.52 µs per loop (mean ± std. dev. of 7 runs, 10000 loops each)\n"
     ]
    }
   ],
   "source": [
    "%%timeit\n",
    "c_big = a_big * b_big"
   ]
  },
  {
   "cell_type": "code",
   "execution_count": 160,
   "metadata": {},
   "outputs": [
    {
     "name": "stdout",
     "output_type": "stream",
     "text": [
      "matricea initiala:\n",
      " [[1 2 3]\n",
      " [4 5 6]]\n",
      "dupa ridicarea la puterea 2:\n",
      " [[ 1  4  9]\n",
      " [16 25 36]]\n",
      "dupa ridicarea la puterea 3:\n",
      " [[  1   8  27]\n",
      " [ 64 125 216]]\n"
     ]
    }
   ],
   "source": [
    "#'ridicarea la putere' folosind ** : fiecare element al matriei este ridicat la putere\n",
    "print('matricea initiala:\\n', a)\n",
    "putere = a ** 2\n",
    "print('dupa ridicarea la puterea 2:\\n', putere)\n",
    "putere_3 = np.power(a, 3)\n",
    "print('dupa ridicarea la puterea 3:\\n', putere_3)"
   ]
  },
  {
   "cell_type": "markdown",
   "metadata": {},
   "source": [
    "Se poate folosi operatorul / pentru a face impartirea punctuala (element cu element) a valorilor din doua matrice:"
   ]
  },
  {
   "cell_type": "code",
   "execution_count": 161,
   "metadata": {},
   "outputs": [
    {
     "name": "stdout",
     "output_type": "stream",
     "text": [
      "a= [[1 2 3]\n",
      " [4 5 6]]\n",
      "b= [[10 20 30]\n",
      " [40 50 60]]\n",
      "a/b= [[ 0.1  0.1  0.1]\n",
      " [ 0.1  0.1  0.1]]\n"
     ]
    }
   ],
   "source": [
    "print('a=', a)\n",
    "print('b=', b)\n",
    "print('a/b=', a/b)"
   ]
  },
  {
   "cell_type": "code",
   "execution_count": 162,
   "metadata": {},
   "outputs": [
    {
     "name": "stdout",
     "output_type": "stream",
     "text": [
      "[[ 468  576  684]\n",
      " [1062 1305 1548]\n",
      " [1656 2034 2412]]\n"
     ]
    }
   ],
   "source": [
    "#ridicarea la putere a unei matrice patratice, asa cum e definita in algebra liniara:\n",
    "patratica = np.array([[1, 2, 3], [4, 5, 6], [7, 8, 9]])\n",
    "ridicare_la_putere = np.linalg.matrix_power(patratica, 3)\n",
    "print(ridicare_la_putere)"
   ]
  },
  {
   "cell_type": "markdown",
   "metadata": {},
   "source": [
    "Daca se apeleaz o functie matematica definita in NumPy pe un ndarray, rezultatul va fi tot un ndarray de aceeasi forma ca si intrarea, dar cu elementele calculate prin aplicarea functiei respective:"
   ]
  },
  {
   "cell_type": "code",
   "execution_count": 163,
   "metadata": {},
   "outputs": [
    {
     "name": "stdout",
     "output_type": "stream",
     "text": [
      "[[0 1 2]\n",
      " [3 4 5]]\n"
     ]
    }
   ],
   "source": [
    "x = np.arange(6).reshape(2, 3)\n",
    "print(x)\n",
    "y = np.exp(x)\n",
    "assert x.shape == y.shape\n",
    "for i in range(0, x.shape[0]):\n",
    "    for j in range(0, x.shape[1]):\n",
    "        assert y[i, j] == np.exp(x[i, j])"
   ]
  },
  {
   "cell_type": "code",
   "execution_count": 164,
   "metadata": {},
   "outputs": [],
   "source": [
    "#produs algebric de matrice:\n",
    "a = np.random.rand(3, 5)\n",
    "b = np.random.rand(5, 10)\n",
    "assert a.shape[1] == b.shape[0]\n",
    "c = np.dot(a, b)\n",
    "# se poate scrie echivalent\n",
    "c = a.dot(b)\n",
    "assert a.shape[0] == c.shape[0] and b.shape[1] == c.shape[1]"
   ]
  },
  {
   "cell_type": "markdown",
   "metadata": {},
   "source": [
    "NumPy defineste o serie de functii ce pot fi utilizate: `all, any, apply_along_axis, argmax, argmin, argsort, average, bincount, ceil, clip, conj, corrcoef, cov, cross, cumprod, cumsum, diff, dot, floor, inner, inv, lexsort, max, maximum, mean, median, min, minimum, nonzero, outer, prod, re, round, sort, std, sum, trace, transpose, var, vdot, vectorize, where` - [documentate aici](https://docs.scipy.org/doc/numpy-dev/reference/generated/)."
   ]
  },
  {
   "cell_type": "markdown",
   "metadata": {},
   "source": [
    "## Indexare \n",
    "\n",
    "http://cs231n.github.io/python-numpy-tutorial/#numpy-array-indexing\n",
    "\n",
    "https://www.tutorialspoint.com/numpy/numpy_indexing_and_slicing.htm\n",
    "\n",
    "https://www.tutorialspoint.com/numpy/numpy_advanced_indexing.htm\n",
    "\n",
    "https://www.learnpython.org/en/Numpy_Arrays\n",
    "\n",
    "Pana acum, pentru referirea elementelor de la anumite pozitii s-au folosit indici simpli de forma:\n",
    "```python\n",
    "vector[indeindice\n",
    "# sau\n",
    "matrice[i, j]'\n",
    "```"
   ]
  },
  {
   "cell_type": "code",
   "execution_count": 165,
   "metadata": {},
   "outputs": [
    {
     "name": "stdout",
     "output_type": "stream",
     "text": [
      "[0 1 2 3 4 5 6 7 8 9]\n",
      "vector[4]=4\n"
     ]
    }
   ],
   "source": [
    "vector = np.arange(10)\n",
    "print(vector)\n",
    "print('vector[4]={0}'.format(vector[4]))"
   ]
  },
  {
   "cell_type": "code",
   "execution_count": 166,
   "metadata": {},
   "outputs": [
    {
     "name": "stdout",
     "output_type": "stream",
     "text": [
      "[[ 0  1  2  3]\n",
      " [ 4  5  6  7]\n",
      " [ 8  9 10 11]]\n",
      "9\n"
     ]
    }
   ],
   "source": [
    "matrice = np.arange(12).reshape(3, 4)\n",
    "print(matrice)\n",
    "print(matrice[2, 1])"
   ]
  },
  {
   "cell_type": "markdown",
   "metadata": {},
   "source": [
    "Petru matrice se poate folosi o indiciere de forma:\n",
    "```python\n",
    "matrice[i][j] \n",
    "```\n",
    "dar e o varianta ineficienta fata de `matrice[i,j]` deoarece in prima varianta se face o copie temporara a linii de indice `i` a matricei si din acest obiect auziliar se selecteaza elementul de indice `j`."
   ]
  },
  {
   "cell_type": "markdown",
   "metadata": {},
   "source": [
    "Prin `slicing` exista posibilitatea de a face referire la un intreg subset de elemente, de exemplu peentru vectori:"
   ]
  },
  {
   "cell_type": "code",
   "execution_count": 167,
   "metadata": {},
   "outputs": [
    {
     "name": "stdout",
     "output_type": "stream",
     "text": [
      "[ 0 10 20 30 40 50 60 70 80 90]\n",
      "[20 30 40 50]\n"
     ]
    }
   ],
   "source": [
    "vector = 10 * np.arange(10)\n",
    "print(vector)\n",
    "print(vector[2:6]) #remarcam ca indicele din dreapat este cu rol de \"exlcusiv, nu contribuie la rezultat"
   ]
  },
  {
   "cell_type": "code",
   "execution_count": 168,
   "metadata": {},
   "outputs": [
    {
     "name": "stdout",
     "output_type": "stream",
     "text": [
      "[ 0 10 20 30 40 50 60 70 80 90]\n",
      "[10 30 20 70]\n"
     ]
    }
   ],
   "source": [
    "indici = [1, 3, 2, 7]\n",
    "print(vector)\n",
    "print(vector[indici])"
   ]
  },
  {
   "cell_type": "code",
   "execution_count": 169,
   "metadata": {},
   "outputs": [
    {
     "data": {
      "text/plain": [
       "array([20, 40, 60])"
      ]
     },
     "execution_count": 169,
     "metadata": {},
     "output_type": "execute_result"
    }
   ],
   "source": [
    "# sau cu indici dati in progresie aritmetica\n",
    "vector[2:8:2]"
   ]
  },
  {
   "cell_type": "raw",
   "metadata": {},
   "source": [
    "Pentru matrice putem folosi:"
   ]
  },
  {
   "cell_type": "code",
   "execution_count": 170,
   "metadata": {},
   "outputs": [
    {
     "name": "stdout",
     "output_type": "stream",
     "text": [
      "[[  0  10  20  30  40]\n",
      " [ 50  60  70  80  90]\n",
      " [100 110 120 130 140]\n",
      " [150 160 170 180 190]]\n"
     ]
    }
   ],
   "source": [
    "matrice = 10 * np.arange(20).reshape(4, 5)\n",
    "print(matrice)"
   ]
  },
  {
   "cell_type": "code",
   "execution_count": 171,
   "metadata": {},
   "outputs": [
    {
     "name": "stdout",
     "output_type": "stream",
     "text": [
      "[50 60 70 80 90]\n",
      "[50 60 70 80 90]\n"
     ]
    }
   ],
   "source": [
    "print(matrice[1,])\n",
    "#care e tot una cu forma mai explicita:\n",
    "print(matrice[1, :])"
   ]
  },
  {
   "cell_type": "code",
   "execution_count": 172,
   "metadata": {},
   "outputs": [
    {
     "data": {
      "text/plain": [
       "array([[ 50,  60,  70,  80,  90],\n",
       "       [100, 110, 120, 130, 140]])"
      ]
     },
     "execution_count": 172,
     "metadata": {},
     "output_type": "execute_result"
    }
   ],
   "source": [
    "#putem selecta domenii de indici, pe fiecare axa\n",
    "matrice[1:3, :]"
   ]
  },
  {
   "cell_type": "code",
   "execution_count": 173,
   "metadata": {},
   "outputs": [
    {
     "data": {
      "text/plain": [
       "array([[ 70,  80],\n",
       "       [120, 130]])"
      ]
     },
     "execution_count": 173,
     "metadata": {},
     "output_type": "execute_result"
    }
   ],
   "source": [
    "#indexare pe fiecare dimensiune\n",
    "matrice[1:3, 2:4]"
   ]
  },
  {
   "cell_type": "markdown",
   "metadata": {},
   "source": [
    "### Indexarea logica\n",
    "Asupra elementelor unui tablou se pot aplica operatii logice; obtinem un tablou de aceeasi forma ca si tabloul initial, dar plin cu valori `True` si `False` in functie de rezultatul aplicarii operatiei logice:"
   ]
  },
  {
   "cell_type": "code",
   "execution_count": 174,
   "metadata": {},
   "outputs": [
    {
     "name": "stdout",
     "output_type": "stream",
     "text": [
      "[[1 2]\n",
      " [3 4]\n",
      " [5 6]]\n",
      "[[False False]\n",
      " [ True  True]\n",
      " [ True  True]]\n"
     ]
    }
   ],
   "source": [
    "a = np.array([[1,2], [3, 4], [5, 6]])\n",
    "print(a)\n",
    "print(a > 2)"
   ]
  },
  {
   "cell_type": "markdown",
   "metadata": {},
   "source": [
    "Tabloul rezultat in urma aplicarii operatiei logice poate fi folosit pentru indexare. Se vor returna doar acele elemente care satisfac conditia logica ceruta:"
   ]
  },
  {
   "cell_type": "code",
   "execution_count": 175,
   "metadata": {},
   "outputs": [
    {
     "name": "stdout",
     "output_type": "stream",
     "text": [
      "[3 4 5 6]\n",
      "[3 4 5 6]\n"
     ]
    }
   ],
   "source": [
    "mai_mare_ca_2 = a > 2\n",
    "print(a[mai_mare_ca_2])\n",
    "#direct\n",
    "print(a[a>2])"
   ]
  },
  {
   "cell_type": "markdown",
   "metadata": {},
   "source": [
    "Daca se doresc expresii mai complicate: elemente care sunt mai mari ca 2 si mai mici ca 6, atunci:"
   ]
  },
  {
   "cell_type": "code",
   "execution_count": 176,
   "metadata": {},
   "outputs": [
    {
     "data": {
      "text/plain": [
       "array([3, 4, 5])"
      ]
     },
     "execution_count": 176,
     "metadata": {},
     "output_type": "execute_result"
    }
   ],
   "source": [
    "a[np.logical_and(a > 2, a < 6)]"
   ]
  },
  {
   "cell_type": "markdown",
   "metadata": {},
   "source": [
    "Mai exista: `np.logical_or`, `np.logical_not`, `np.logical_xor`."
   ]
  },
  {
   "cell_type": "markdown",
   "metadata": {},
   "source": [
    "O expresie logica utila este urmatoarea: se cere obtinerea doar a acelor elemente care sunt definite - adica nu sunt nan:"
   ]
  },
  {
   "cell_type": "code",
   "execution_count": 177,
   "metadata": {},
   "outputs": [
    {
     "name": "stdout",
     "output_type": "stream",
     "text": [
      "[  1.    2.3   4.   10.    0. ]\n"
     ]
    }
   ],
   "source": [
    "tab = np.array([[1.0, 2.3, np.nan, 4], [10, np.nan, np.nan, 0]])\n",
    "print(tab[~np.isnan(tab)])"
   ]
  },
  {
   "cell_type": "markdown",
   "metadata": {},
   "source": [
    "Indicierea retunreaza un 'view' al tabloului, pese cae se pot aplica modificari. 'View'-ul duce la modificarea continutului originar:"
   ]
  },
  {
   "cell_type": "code",
   "execution_count": 183,
   "metadata": {},
   "outputs": [
    {
     "name": "stdout",
     "output_type": "stream",
     "text": [
      "[[  1.    2.3   0.    4. ]\n",
      " [ 10.    0.    0.    0. ]]\n"
     ]
    }
   ],
   "source": [
    "tab[np.isnan(tab)] = 0.0\n",
    "print(tab)"
   ]
  },
  {
   "cell_type": "markdown",
   "metadata": {},
   "source": [
    "## Broadcasting\n",
    "\n",
    "https://www.tutorialspoint.com/numpy/numpy_broadcasting.htm\n",
    "\n",
    "http://cs231n.github.io/python-numpy-tutorial/#numpy-broadcasting\n"
   ]
  },
  {
   "cell_type": "markdown",
   "metadata": {},
   "source": [
    "## Vectorizare\n",
    "\n",
    "Exemple: https://www.kdnuggets.com/2017/11/forget-for-loop-data-science-code-vectorization.html "
   ]
  },
  {
   "cell_type": "markdown",
   "metadata": {},
   "source": [
    "## Bibliografie recomandata\n",
    "1. https://docs.scipy.org/doc/numpy-1.13.0/glossary.html\n",
    "1. https://engineering.ucsb.edu/~shell/che210d/numpy.pdf\n",
    "1. http://www.scipy-lectures.org/intro/numpy/numpy.html#indexing-and-slicing"
   ]
  },
  {
   "cell_type": "markdown",
   "metadata": {},
   "source": [
    "## Grafice cu Matplotlib"
   ]
  }
 ],
 "metadata": {
  "kernelspec": {
   "display_name": "Python 3",
   "language": "python",
   "name": "python3"
  },
  "language_info": {
   "codemirror_mode": {
    "name": "ipython",
    "version": 3
   },
   "file_extension": ".py",
   "mimetype": "text/x-python",
   "name": "python",
   "nbconvert_exporter": "python",
   "pygments_lexer": "ipython3",
   "version": "3.6.3"
  }
 },
 "nbformat": 4,
 "nbformat_minor": 2
}
