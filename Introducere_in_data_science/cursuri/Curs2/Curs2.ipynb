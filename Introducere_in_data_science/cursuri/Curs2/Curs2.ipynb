{
 "cells": [
  {
   "cell_type": "markdown",
   "metadata": {},
   "source": [
    "# Curs 2: Module si pachete Python, NumPy, grafice"
   ]
  },
  {
   "cell_type": "markdown",
   "metadata": {},
   "source": [
    "## Module"
   ]
  },
  {
   "cell_type": "markdown",
   "metadata": {},
   "source": [
    "Modulele sunt fisiere Python cu extensia .py, in care se gasesc implementari de functii, clase, variabile. Importarea unui modul se face cu instructiunea `import`. \n",
    "\n",
    "Exemplu: cream un modul care contine o functie ce calculeaza suma elementelor dintr-o lista data ca parametru:\n",
    "\n",
    "#fisierul mySmartModule.py\n",
    "```python\n",
    "def my_sum(lista):\n",
    "    sum = 0\n",
    "    for item in lista:\n",
    "        sum += item\n",
    "    return sum\n",
    "```\n",
    "\n",
    "Utilizarea se face cu:\n",
    "```python\n",
    "import mySmartModule\n",
    "\n",
    "lista = [1, 2, 3]\n",
    "\n",
    "suma = mySmartModule.my_sum(lista)\n",
    "print(suma)\n",
    "```"
   ]
  },
  {
   "cell_type": "markdown",
   "metadata": {},
   "source": [
    "Se poate ca modulul sa fie importat cu un nume mai scurt, sub forma:\n",
    "```python\n",
    "import mySmartModule as msm\n",
    "```\n",
    "si in acest caz apelul se face cu:\n",
    "```python\n",
    "suma = msm.my_sum(lista)\n",
    "```"
   ]
  },
  {
   "cell_type": "markdown",
   "metadata": {},
   "source": [
    "Putem afla ce pune la dispozitie un modul:\n",
    "```python\n",
    ">>> dir(msm)\n",
    "['__builtins__', '__cached__', '__doc__', '__file__', '__loader__', '__name__', '__package__', '__spec__', 'my_sum']\n",
    "```"
   ]
  },
  {
   "cell_type": "markdown",
   "metadata": {},
   "source": [
    "Daca se doreste ca tot ceea ce e definit intr-un modul sa fie disponibil fara a mai face prefixare cu `nume_modul.nume_entitate`, atunci se poate proceda astfel:\n",
    "```python\n",
    "from mySmartModule import *\n",
    "\n",
    "print(my_sum([1, 2, 3]))\n",
    "```\n",
    "Se recomanda insa sa se importe strict acele entitati (functii, tipuri) din modul care sunt utilizate; in felul acesta se evita suprascrierea prin import al altor entitati deja importate:\n",
    "```python\n",
    "from mySmartModule import my_sum\n",
    "\n",
    "print(my_sum([1, 2, 3]))\n",
    "```"
   ]
  },
  {
   "cell_type": "markdown",
   "metadata": {},
   "source": [
    "Ordinea de cautare a modulelor este:\n",
    "1. directorul curent\n",
    "1. daca nu se gaseste modulul cerut, se cauta in variabila de mediu `PYTHONPATH`\n",
    "1. daca nu se gaseste modulul cerut, se cauta in calea implicita.\n",
    "\n",
    "Calea de cautare se gaseste in variabila `path` din modulul sistem `sys`:"
   ]
  },
  {
   "cell_type": "code",
   "execution_count": 1,
   "metadata": {},
   "outputs": [
    {
     "name": "stdout",
     "output_type": "stream",
     "text": [
      "['', 'C:\\\\Anaconda3\\\\python36.zip', 'C:\\\\Anaconda3\\\\DLLs', 'C:\\\\Anaconda3\\\\lib', 'C:\\\\Anaconda3', 'C:\\\\Anaconda3\\\\lib\\\\site-packages', 'C:\\\\Anaconda3\\\\lib\\\\site-packages\\\\Babel-2.5.0-py3.6.egg', 'C:\\\\Anaconda3\\\\lib\\\\site-packages\\\\tangent-0.1.0-py3.6.egg', 'C:\\\\Anaconda3\\\\lib\\\\site-packages\\\\win32', 'C:\\\\Anaconda3\\\\lib\\\\site-packages\\\\win32\\\\lib', 'C:\\\\Anaconda3\\\\lib\\\\site-packages\\\\Pythonwin', 'C:\\\\Anaconda3\\\\lib\\\\site-packages\\\\IPython\\\\extensions', 'C:\\\\Users\\\\ro1v0393\\\\.ipython']\n"
     ]
    }
   ],
   "source": [
    "import sys\n",
    "print(sys.path)"
   ]
  },
  {
   "cell_type": "markdown",
   "metadata": {},
   "source": [
    "Daca se doreste ca un modul scris de utilizator, intr-un director ce nu se gaseste in lista de mai sus, sa fie accesibil pentru import, atunci calea catre director trebuie adaugata la colectia sys.path:"
   ]
  },
  {
   "cell_type": "code",
   "execution_count": 2,
   "metadata": {},
   "outputs": [
    {
     "name": "stdout",
     "output_type": "stream",
     "text": [
      "6\n"
     ]
    }
   ],
   "source": [
    "sys.path.append('d:\\\\work\\\\school\\\\cursuri\\\\Introducere_In_Data_Science\\\\cursuri\\\\Curs2\\\\my_modules\\\\')\n",
    "from mySmartModule import my_sum\n",
    "print(my_sum([1, 2, 3]))"
   ]
  },
  {
   "cell_type": "markdown",
   "metadata": {},
   "source": [
    "Un modul se poate folosi in doua feluri: \n",
    "1. pentru a pune la dispozitie diferite implementari de functii sau de clase, sau variabile setate la anumite valori (de exemplu `math.pi`:\n",
    "```python\n",
    "import math\n",
    "print(math.pi)\n",
    "```\n",
    "2. se poate lansa de sine statator, folosind: `python mySmartModule`. Pentru acest caz, daca se vrea ca sa se execute o anumita secventa de cod, atunci se va folosi:\n",
    "```python\n",
    "if __name__ == '__main__':\n",
    "    #cod care se executa la lansarea directa a script-ului\n",
    "```\n",
    "\n",
    "Exemplu:\n",
    "```python\n",
    "def my_sum(lista):\n",
    "    sum = 0\n",
    "    for item in lista:\n",
    "        sum += item\n",
    "    return sum\n",
    "\t\n",
    "if __name__ == '__main__':\n",
    "\tprint('Exemplu de utilizare')\n",
    "\tlista = list(range(100))\n",
    "\tprint(my_sum(lista))\n",
    "```"
   ]
  },
  {
   "cell_type": "markdown",
   "metadata": {},
   "source": [
    "Alte exemple de utilizare de pachete sunt:"
   ]
  },
  {
   "cell_type": "code",
   "execution_count": 3,
   "metadata": {},
   "outputs": [
    {
     "name": "stdout",
     "output_type": "stream",
     "text": [
      "['Am', 'cumparat', 'mere', 'pere', 'prune', 'si', 'caise']\n"
     ]
    }
   ],
   "source": [
    "import re #pachet pentru expresii regulate\n",
    "my_string = 'Am cumparat: mere, pere, prune... si caise'\n",
    "tokens = re.split(r'\\W+', my_string)\n",
    "print(tokens)"
   ]
  },
  {
   "cell_type": "code",
   "execution_count": 4,
   "metadata": {},
   "outputs": [
    {
     "name": "stdout",
     "output_type": "stream",
     "text": [
      "None\n",
      "dupa deserializare: {'lion': 'yellow', 'kitty': 'red'}\n"
     ]
    }
   ],
   "source": [
    "# Serializare cu pickle\n",
    "import pickle\n",
    "\n",
    "favorite_color = { \"lion\": \"yellow\", \"kitty\": \"red\" }\n",
    "\n",
    "pickle.dump( favorite_color, open( \"save.pkl\", \"wb\" ) )\n",
    "\n",
    "#restaurare\n",
    "favorite_color = None\n",
    "print(favorite_color)\n",
    "favorite_color = pickle.load( open( \"save.pkl\", \"rb\" ) )\n",
    "print('dupa deserializare:', favorite_color)\n",
    "\n",
    "# !del save.pkl #delete file"
   ]
  },
  {
   "cell_type": "markdown",
   "metadata": {},
   "source": [
    "## Pachete Python"
   ]
  },
  {
   "cell_type": "markdown",
   "metadata": {},
   "source": [
    "Un pachet este ostructura ierarhica de directoare in care se gasesc module si subpachete. Este obligatoriu ca in orice director care se doreste a fi vazut ca un pachet sa existe un fisier numit `__init__.py`. In prima faza, `__init__.py` poate fi gol. Plecam de la structura de directoare si fisiere:\n",
    "```\n",
    "---myUtils\\\n",
    " |------ mySmartModule.py\n",
    " |------ __init__.py\n",
    "```"
   ]
  },
  {
   "cell_type": "markdown",
   "metadata": {},
   "source": [
    "Pentru importul functiei `my_sum` din fisierul `mySmartModule.py` aflat in directorul `myUtil` - care se doreste a fi pachet - s-ar scrie astfel:\n",
    "```python\n",
    "from myUtils.mySmartModule import my_sum\n",
    "print(my_sum([1, 2, 3]))\n",
    "```\n",
    "dar am prefera sa putem scrie:\n",
    "```python\n",
    "from myUtils import my_sum\n",
    "print(my_sum([1, 2, 30]))\n",
    "```\n",
    "adica sa nu mai referim modulul din cadrul pachetului `myUtil`. Pentru asta vom adauga in fisierul `__init__.py` din directorul `myUtils` linia:\n",
    "```python\n",
    "from .mySmartModule import my_sum \n",
    "```\n",
    "unde caracterul `.` de dinaintea numelui de modul `mySmartModule` se refera la calea relativa. "
   ]
  },
  {
   "cell_type": "code",
   "execution_count": 5,
   "metadata": {},
   "outputs": [],
   "source": [
    "# from myUtils.mySmartModule import my_sum\n",
    "# print(my_sum([1, 2, 30]))"
   ]
  },
  {
   "cell_type": "code",
   "execution_count": 6,
   "metadata": {},
   "outputs": [
    {
     "name": "stdout",
     "output_type": "stream",
     "text": [
      "33\n"
     ]
    }
   ],
   "source": [
    "from myUtils import my_sum\n",
    "print(my_sum([1, 2, 30]))"
   ]
  },
  {
   "cell_type": "markdown",
   "metadata": {},
   "source": [
    "In fisierul `__init__.py` se obisnuieste sa se puna orice are legatura cu initializarea pachetului, cum ar fi incarcarea de date de pe disc in memorie, setarea unor variabile la valori anume, "
   ]
  },
  {
   "cell_type": "markdown",
   "metadata": {},
   "source": [
    "Pentru cazul in care se doreste crearea de pachete destinate comunitatii si publicarea pe PyPI, se va urma [acest tutorial](https://python-packaging.readthedocs.io/en/latest/)."
   ]
  },
  {
   "cell_type": "markdown",
   "metadata": {},
   "source": [
    "## Pachetul NumPy"
   ]
  },
  {
   "cell_type": "markdown",
   "metadata": {},
   "source": [
    "NumPy este pachetul de baza pentru calcule stiintifice in Python. Asigura suport pentur lucrul cu vectori si matrice multidimensionale, operatii optimizate pentru ele, precum sortare, operatii din algebra liniara, procesare de semnal, operatii statistice de baza, generare de numere aleatoare etc. Sta la baza multor altor pachete. Datele pe care le proceseaza trebuie sa incapa in memoria RAM. Numpy are la baza cod C compilat si optimizat. \n",
    "\n",
    "In destul de multe situatii, datele sunt sau pot fi transformate in numere:\n",
    "* o imagine in tonuri de gri poate fi vazuta ca o matrice bidimensionala de numere; fiecare numar reprezinta intensitatea pixelului (0 - negru, 255 - alb)\n",
    "* o imagine color poate fi vazuta ca o matrice cu trei dimensiuni: 3 matrice bidimensionale \"paralele\", corespunzatoare canalelor red, green, blue; pentru fiecare canal de culoare valorile pot fi intre 0 si 255;\n",
    "* un fisir audio este vazut ca unul/doi/k vectori dimensionali, corespunzatoare cazurilor: mono, stereo, k canale. Valorile numerice in cazul unui fisier wav reprezinta amplitudinea sunetului;\n",
    "* un text poate fi tradus in vectori numerici prin tehnici precum [Bag of words](https://en.wikipedia.org/wiki/Bag-of-words_model) sau [Word2vec](https://en.wikipedia.org/wiki/Word2vec).\n",
    "\n",
    "Reprezentarea este mult mai eficienta decat pentru listele Python; codul scris cu NumPy apeleaza biblioteci compilate in cod nativ. Daca codul este scris vectorizat, eficienta rularii e si mai mare. \n",
    "\n",
    "Tipul cel mai comun din NumPy este ndarray - n-dimensional array. "
   ]
  },
  {
   "cell_type": "code",
   "execution_count": 10,
   "metadata": {},
   "outputs": [
    {
     "name": "stdout",
     "output_type": "stream",
     "text": [
      "<class 'numpy.ndarray'>\n",
      "int32\n",
      "float16\n"
     ]
    }
   ],
   "source": [
    "#import de pachet; traditional se foloseste abrevierea np pentru numpy\n",
    "import numpy as np\n",
    "\n",
    "#crearea unui vector pornind de la o lista Python\n",
    "x = np.array([1, 4, 2, 5, 3])\n",
    "\n",
    "#tipul variabilei x; se observa ca e tip numpy\n",
    "print(type(x)) \n",
    "#toate elementele din array sunt de acelasi tip\n",
    "print(x.dtype) \n",
    "\n",
    "#specificarea explicita a tipului de reprezentare a datelor in array\n",
    "y = np.array([1, 2, 3], dtype=np.float16)\n",
    "print(y.dtype)"
   ]
  },
  {
   "cell_type": "code",
   "execution_count": 14,
   "metadata": {},
   "outputs": [
    {
     "name": "stdout",
     "output_type": "stream",
     "text": [
      "[0 0 0 0 0 0 0 0 0 0]\n",
      "(10,)\n"
     ]
    }
   ],
   "source": [
    "#cazuri frecvente\n",
    "all_zeros = np.zeros(10, dtype=int)\n",
    "print(all_zeros)\n",
    "#tiparire nr de elemente pe fiecare dimensiune\n",
    "print(all_zeros.shape)"
   ]
  },
  {
   "cell_type": "code",
   "execution_count": 13,
   "metadata": {},
   "outputs": [
    {
     "name": "stdout",
     "output_type": "stream",
     "text": [
      "(2, 3)\n",
      "2\n"
     ]
    }
   ],
   "source": [
    "#matrice 2d\n",
    "mat = np.array([[1, 2, 3], [4, 5, 6]])\n",
    "print(mat.shape)\n",
    "print(mat[0, 1])"
   ]
  },
  {
   "cell_type": "code",
   "execution_count": 24,
   "metadata": {},
   "outputs": [
    {
     "name": "stdout",
     "output_type": "stream",
     "text": [
      "[[ 1.  1.  1.  1.  1.]\n",
      " [ 1.  1.  1.  1.  1.]\n",
      " [ 1.  1.  1.  1.  1.]]\n",
      "[[ 3.14159265  3.14159265]\n",
      " [ 3.14159265  3.14159265]\n",
      " [ 3.14159265  3.14159265]]\n",
      "[[ 1.  0.  0.]\n",
      " [ 0.  1.  0.]\n",
      " [ 0.  0.  1.]]\n"
     ]
    }
   ],
   "source": [
    "#cazuri comune\n",
    "all_ones = np.ones((3, 5))\n",
    "print(all_ones)\n",
    "all_pi = np.full((3, 2), np.pi)\n",
    "print(all_pi)\n",
    "print(np.eye(3))"
   ]
  },
  {
   "cell_type": "code",
   "execution_count": 23,
   "metadata": {},
   "outputs": [
    {
     "name": "stdout",
     "output_type": "stream",
     "text": [
      "[  0.    2.5   5.    7.5  10. ]\n"
     ]
    }
   ],
   "source": [
    "#valori echidistante intr-un interval\n",
    "print(np.linspace(0, 10, 5))"
   ]
  },
  {
   "cell_type": "code",
   "execution_count": 20,
   "metadata": {},
   "outputs": [
    {
     "name": "stdout",
     "output_type": "stream",
     "text": [
      "[[ 0.8076938   0.04258628  0.6705331 ]\n",
      " [ 0.7553333   0.94446315  0.63181375]]\n"
     ]
    }
   ],
   "source": [
    "#numere aleatoare\n",
    "x = np.random.random((2, 3))\n",
    "print(x)"
   ]
  },
  {
   "cell_type": "markdown",
   "metadata": {},
   "source": [
    "Tipurile de date folosibile pentru ndarrays sunt:\n",
    "\n",
    "| Tip  | Explicatie |\n",
    "| ---- | -----------|\n",
    "| bool_ | \tBoolean (True or False) stored as a byte | \n",
    "| int_ | \tDefault integer type (same as C long; normally either int64 or int32) | \n",
    "| intc | \tIdentical to C int (normally int32 or int64) | \n",
    "| intp | \tInteger used for indexing (same as C ssize_t; normally either int32 or int64) | \n",
    "| int8 | \tByte (-128 to 127) | \n",
    "| int16 | \tInteger (-32768 to 32767) | \n",
    "| int32 | \tInteger (-2147483648 to 2147483647) | \n",
    "| int64 | \tInteger (-9223372036854775808 to 9223372036854775807) | \n",
    "| uint8 | \tUnsigned integer (0 to 255) | \n",
    "| uint16 | \tUnsigned integer (0 to 65535) | \n",
    "| uint32 | \tUnsigned integer (0 to 4294967295) | \n",
    "| uint64 | \tUnsigned integer (0 to 18446744073709551615) | \n",
    "| float_ | \tShorthand for float64. | \n",
    "| float16 | \tHalf precision float: sign bit, 5 bits exponent, 10 bits mantissa | \n",
    "| float32 | \tSingle precision float: sign bit, 8 bits exponent, 23 bits mantissa | \n",
    "| float64 | \tDouble precision float: sign bit, 11 bits exponent, 52 bits mantissa | \n",
    "| complex_ | \tShorthand for complex128. | \n",
    "| complex64 | \tComplex number, represented by two 32-bit floats (real and imaginary components) | \n",
    "| complex128 | \tComplex number, represented by two 64-bit floats (real and imaginary components) |"
   ]
  },
  {
   "cell_type": "markdown",
   "metadata": {},
   "source": [
    "## Grafice cu Matplotlib"
   ]
  }
 ],
 "metadata": {
  "kernelspec": {
   "display_name": "Python 3",
   "language": "python",
   "name": "python3"
  },
  "language_info": {
   "codemirror_mode": {
    "name": "ipython",
    "version": 3
   },
   "file_extension": ".py",
   "mimetype": "text/x-python",
   "name": "python",
   "nbconvert_exporter": "python",
   "pygments_lexer": "ipython3",
   "version": "3.6.3"
  }
 },
 "nbformat": 4,
 "nbformat_minor": 2
}
