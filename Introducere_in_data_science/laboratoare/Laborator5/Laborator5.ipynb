{
 "cells": [
  {
   "cell_type": "markdown",
   "metadata": {},
   "source": [
    "   # Laborator 6"
   ]
  },
  {
   "cell_type": "markdown",
   "metadata": {},
   "source": [
    "## Reprezentarea datelor dintr-un Dataframe"
   ]
  },
  {
   "cell_type": "markdown",
   "metadata": {},
   "source": [
    "Incarcati un set de date numerice, multivariat dintr-unul din depozitele de date mentionate in cursul 5. Folosind metodele prezentate la [Visualization](https://pandas.pydata.org/pandas-docs/stable/user_guide/visualization.html), [Pandas Dataframe: Plot Examples with Matplotlib and Pyplot](http://queirozf.com/entries/pandas-dataframe-plot-examples-with-matplotlib-pyplot), reprezentati valorile pe coloane. Comentati (in text) cele observate pe baza reprezentarilor (de exemplu: exista valori outlier, valorile sunt concentrate intr-un anumit interval, vlorile sunt grupate in catve locatii etc)."
   ]
  },
  {
   "cell_type": "code",
   "execution_count": null,
   "metadata": {},
   "outputs": [],
   "source": []
  }
 ],
 "metadata": {
  "kernelspec": {
   "display_name": "Python 3",
   "language": "python",
   "name": "python3"
  },
  "language_info": {
   "codemirror_mode": {
    "name": "ipython",
    "version": 3
   },
   "file_extension": ".py",
   "mimetype": "text/x-python",
   "name": "python",
   "nbconvert_exporter": "python",
   "pygments_lexer": "ipython3",
   "version": "3.7.2"
  }
 },
 "nbformat": 4,
 "nbformat_minor": 2
}
