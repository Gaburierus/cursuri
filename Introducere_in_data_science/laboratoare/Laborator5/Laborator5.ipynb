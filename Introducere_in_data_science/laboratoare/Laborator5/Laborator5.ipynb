{
 "cells": [
  {
   "cell_type": "markdown",
   "metadata": {},
   "source": [
    "# Laborator 5"
   ]
  },
  {
   "cell_type": "markdown",
   "metadata": {},
   "source": [
    "## 1. Modele de clasificare\n",
    "\n",
    "Preluati 3 seturi de date pentru probleme de clasificare, stocate in repository-urile date in cursul 4 - sau altele. Pentru fiecare din acestea:\n",
    "\n",
    "1. Daca e necesar, aplicati una din metodele de missing value imputation implementate in laboratorul precedent;\n",
    "1. Alegeti pentru fiecare probelma o metrica pe care vreti sa o optimizati - acuratete, f1 score etc. - a se vedea [sklearn.metrics](http://scikit-learn.org/stable/modules/classes.html#module-sklearn.metrics);\n",
    "1. Alegeti 4 modele de clasificare din biblioteca sklearn; documentati-i in Jupyter notebook;\n",
    "1. Pentru fiecare model: efectuati o cautare a hiperparametrilor optimi - de exemplu prin [GridSearchCV](http://scikit-learn.org/stable/modules/generated/sklearn.model_selection.GridSearchCV.html);\n",
    "1. Comparati rezultatele date de catre fiecare model (pentru hiperparametrii optimali gasiti la punctul anterior) in forma tabelara. Performanta se va determina prin 10-fold cross validation, se vor compara mediile. "
   ]
  },
  {
   "cell_type": "markdown",
   "metadata": {},
   "source": [
    "# 2. Modele de regresie\n",
    "Efectuati aceiasi pasi ca mai sus pentru problema de regresie."
   ]
  },
  {
   "cell_type": "markdown",
   "metadata": {},
   "source": [
    "Predare: laboratoarele 4 si 5 vor fi prezentate in 20 aprilie. "
   ]
  }
 ],
 "metadata": {
  "kernelspec": {
   "display_name": "Python 3",
   "language": "python",
   "name": "python3"
  },
  "language_info": {
   "codemirror_mode": {
    "name": "ipython",
    "version": 3
   },
   "file_extension": ".py",
   "mimetype": "text/x-python",
   "name": "python",
   "nbconvert_exporter": "python",
   "pygments_lexer": "ipython3",
   "version": "3.6.4"
  }
 },
 "nbformat": 4,
 "nbformat_minor": 2
}
