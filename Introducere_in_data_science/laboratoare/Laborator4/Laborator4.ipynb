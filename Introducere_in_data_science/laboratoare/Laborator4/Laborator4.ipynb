{
 "cells": [
  {
   "cell_type": "markdown",
   "metadata": {},
   "source": [
    "#### Versiunea 2018-03-16\n",
    "\n",
    "Urmariti documentul pentru cerintele ce se vor adauga. Tema se va preda la laborator. "
   ]
  },
  {
   "cell_type": "markdown",
   "metadata": {},
   "source": [
    "# Reprezentarea grafica a datelor\n",
    "Preluati un fisier de date numerice dintr-unul din repository-urile date in cursul 4. Reprezentati valorile din setul de date prin:\n",
    "1. Histograme pentru fiecare atribut\n",
    "1. Boxplots\n",
    "1. Scatter plotts pentru perechi de atribute\n",
    "1. Matrix scatter plots\n",
    "1. Vizualizare de matrice de corelatie\n",
    "1. Coordonate paralele\n",
    "1. Alte tipuri de grafice\n",
    "\n",
    "Se pot urmari exemplele din prezentarea ./Exemple/curs3_IDM.pdf. Pentru reprezentare se poate folosi Matplotlib sau [Seaborn](https://seaborn.pydata.org/). "
   ]
  },
  {
   "cell_type": "markdown",
   "metadata": {},
   "source": [
    "# Missing value imputation"
   ]
  },
  {
   "cell_type": "markdown",
   "metadata": {},
   "source": [
    "Implementati tehnici pentru umplerea valorilor lipsa dintr-un set de date. Implementati:\n",
    "1. [Mean imputation](https://www.iriseekhout.com/missing-data/missing-data-methods/imputation-methods/) - o valoare lipsa se inlocuieste cu media valorilor cunoscute\n",
    "1. Utilizarea valorii celei mai frecvente, pentru date catogoriale\n",
    "1. Median value imputation - valorie lipsa se umplu cu mediana\n",
    "1. kNN pentru regresie, cu diferite valori ale lui k\n",
    "1. Alte metode de regresie, in care valorile complete sunt folosite pentru prezicerea valorilor lipsa\n",
    "1. [Algoritmul expectation maximization](https://en.wikipedia.org/wiki/Expectation%E2%80%93maximization_algorithm)\n",
    "\n",
    "Aplicati aceste metode pentru Pandas Datframes. Scrieti functii care implementeaza metodele mentionate. Puteti modele de regresie, EM etc. puteti folosi bibliteca sklearn.  \n",
    "\n",
    "Resurse:\n",
    "1. [How to Handle Missing Data](https://towardsdatascience.com/how-to-handle-missing-data-8646b18db0d4)\n",
    "1. [Comparison of Data Imputation Techniques and their Impact ](https://arxiv.org/ftp/arxiv/papers/0812/0812.1539.pdf)\n",
    "1. [Missing-data imputation](http://www.stat.columbia.edu/~gelman/arm/missing.pdf)\n",
    "1. [Missing data imputation using statistical and machine learning methods in a real breast cancer problem](https://www.sciencedirect.com/science/article/pii/S0933365710000679)"
   ]
  }
 ],
 "metadata": {
  "kernelspec": {
   "display_name": "Python 3",
   "language": "python",
   "name": "python3"
  },
  "language_info": {
   "codemirror_mode": {
    "name": "ipython",
    "version": 3
   },
   "file_extension": ".py",
   "mimetype": "text/x-python",
   "name": "python",
   "nbconvert_exporter": "python",
   "pygments_lexer": "ipython3",
   "version": "3.6.4"
  }
 },
 "nbformat": 4,
 "nbformat_minor": 2
}
