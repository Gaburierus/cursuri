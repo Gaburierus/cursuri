{
 "cells": [
  {
   "cell_type": "markdown",
   "metadata": {},
   "source": [
    "# Laborator 2"
   ]
  },
  {
   "cell_type": "markdown",
   "metadata": {},
   "source": [
    "## 1. Liste, dictionare, multimi\n",
    "1. Dandu-se o lista, sa se inverseze ordinea elementelor. Exista cel putin Jdoua variante de rezolvare: slicing si folosind o metoda a tipului lista.\n",
    "1. Pentru o lista de cuvinte (stringuri), sa se obtina un dictionar care are drept cheie cuvintele distincte din lista, iar valorile corespunzatoare sa fie numarul de aparitii ale fiecarui cuvant\n",
    "1. Dandu-se o lista de tuple binare, sa se obtina o lista care contine valoarea maxima a fiecarui tuplu.\n",
    "1. Sa se calculeze suma numerelor de indice par si produsul numerelor de indice impar dintr-o lista. \n",
    "1. Documentati-va asupra tipului de date Set (multime) si folositi-l pentru a determina elementele unice dintr-o lista de numere.\n",
    "1. Pentru o lista de stringuri si un numar n > 1, sa se produca o lista care contine toate stringurile din lista initiala cu toate numere 1..n. \n",
    "Exemplu: pentru lista = ['a', 'b', 'c'], n=2 se va produce lista_2 = ['a1', 'a2', 'b1', 'b2', 'c1', 'c2']; ordinea poate sa difere. Incercati o implementare bazata pe list comprehension.\n",
    "1. Dandu-se o lista de cuvinte, sa se produca o alta lista cu aceleasi cuvinte, dar: prima litera a fiecarui cuvant sa fie mare, celelalte din cuvant - mici. \n",
    "1. Documentati-va si explicati comportamentul pentru urmatoarea secventa de cod:\n",
    "```python\n",
    "this = ['I', 'am', 'not', 'a', 'crook']\n",
    "that = ['I', 'am', 'not', 'a', 'crook']\n",
    "print(\"Test 1:\", this is that)\n",
    "that = this\n",
    "print(\"Test 2:\", this is that)\n",
    "```"
   ]
  },
  {
   "cell_type": "markdown",
   "metadata": {},
   "source": [
    "## 2. Functii\n",
    "1. Pentru o lista de numere, sa se scrie o functie care returneaza suma elementelor si diferenta maxima dintre ele.\n",
    "1. Scrieti o functie care preia doua liste si returneaza `True` daca cele doua liste contin cel putin k elemente comune (k dat ca parametru, intreg >= 1, valoare implicita 1), `False` altfel.\n",
    "1. Sa se scrie o functie care determina daca o lista contine doar cuvinte. Functia trebuie sa testeze daca elementele din lista sunt stringuri; un string este cuvant daca nu contine: spatiu, virgula si alti separatori.\n",
    "1. Sa se scrie o functie care returneaza numarul de litere mici si mari - 2 rezultate - dintr-un parametru dat.\n",
    "1. Sa se scrie o functie care primind o lista de dictionare, returneaza `True` daca toate dictionarele sunt goale si `False` altfel.\n",
    "1. Sa se scrie o functie recursiva care sa faca ridicarea la putere a unui numar, astfel:\n",
    "$$\n",
    "a^n = \\begin{cases}\n",
    "a & \\text{daca }n=1\n",
    "\\\\\n",
    "\\left(a^{n//2}\\right)^2 & \\text{daca } n \\text{ e par}\n",
    "\\\\\n",
    "\\left(a^{n//2}\\right)^2 \\cdot a & \\text{daca } n \\text{ e impar}, n>1\n",
    "\\\\\n",
    "\\end{cases}\n",
    "$$\n",
    "unde prin $n//2$ se reprezinta catul impartirii intregi intre $n$ si 2."
   ]
  },
  {
   "cell_type": "markdown",
   "metadata": {},
   "source": [
    "## 3. Exercitii simple folosind API de NumPy  "
   ]
  },
  {
   "cell_type": "markdown",
   "metadata": {},
   "source": [
    "1. Folosind functia `np.where`, determinati care sunt liniile si coloanele care contin un element dat intr-o matrice. \n",
    "1. Pentru o matrice de numere, sa se determine care este produsul elementelor pe linii.\n",
    "1. Folosind functia `np.all`, determinati daca toate elementele unei matrice `a` sunt mai mari sau egale decat toate de pe pozitiile corespondente din `b`.\n",
    "1. Determinati care e maximul pe coloanele unei matrice (functia `max` cu argumentul `axis` setat corespunzator) si maximul intregii matrice.\n",
    "1. Plecand de la un vector de numere de tip float pentru care un element este pus la valoarea `np.nan`, calculati suma elementelor. Explicati rezultatul.\n",
    "1. Pentru un vector de numere, care sunt *toate pozitiile* pe care apar valoarea maxima? Folositi functie NumPy.\n",
    "1. Sa se calculeze suma elementelor non-NaN intr-un 2d numpy array, in 3 feluri. Folosind comanda magica `%%timeit` [Built-in magic commands](http://ipython.readthedocs.io/en/stable/interactive/magics.html#cell-magics), [IPython Magic Commands](https://jakevdp.github.io/PythonDataScienceHandbook/01.03-magic-commands.html), sa se determine care e mai rapida.\n",
    "    1. Peste o copie a tabelului initial (functia membru `copy()` a unui tablou) se suprascriu elementele nan cu 0, apoi se face suma;\n",
    "    1. Folosind functia `np.nansum`;\n",
    "    1. Folosind indiciere booleana si functi `np.isnan`, se determina colectia elementelor non-nan si se calculeaza suma lor in mod obisnuit.\n",
    "1. Se considera vectorul: `a = np.array([230, 10, 284, 39, 76])`. Folosind indexarea logica, sa se inmulteasca elementele din vector care sunt mai mici ca 100 cu 2 (restul raman neschimbate). Folosind ciclare, sa se aplice aceeasi operatie pana cand toate elementele devin mai mari ca 100. Sa se afiseze din vectorul final elementele care sunt mai mari de 150 si mai mici de 200.\n",
    "1. La curs s-a prezentat problema gasirii celei mai apropiate perechi de puncte in spatiul 2d. Rescrieti rezolvarea pentru a determina cele mai apropiate k puncte fata de un punct specificat prin coordonate (k dat), intr-un spatiu 5-dimensional.  \n",
    "1. Se dau doi vectori **x** si **y** de *m*, respectiv *n* componente. Sa se calculeze, folosind cod vectorizat si cod Python clasic (ciclu `for`):\n",
    "$$\n",
    "\\sum\\limits_{i, j} x_i \\cdot y_j\n",
    "$$\n",
    "Efectuati masuratori asupra vitezei de calcul folosind `%%timeit`."
   ]
  }
 ],
 "metadata": {
  "kernelspec": {
   "display_name": "Python 3",
   "language": "python",
   "name": "python3"
  },
  "language_info": {
   "codemirror_mode": {
    "name": "ipython",
    "version": 3
   },
   "file_extension": ".py",
   "mimetype": "text/x-python",
   "name": "python",
   "nbconvert_exporter": "python",
   "pygments_lexer": "ipython3",
   "version": "3.6.4"
  }
 },
 "nbformat": 4,
 "nbformat_minor": 2
}
