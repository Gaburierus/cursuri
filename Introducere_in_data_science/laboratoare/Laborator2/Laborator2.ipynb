{
 "cells": [
  {
   "cell_type": "markdown",
   "metadata": {},
   "source": [
    "# Laborator 2"
   ]
  },
  {
   "cell_type": "markdown",
   "metadata": {},
   "source": [
    "## 1. Exercitii simple folosind API de NumPy"
   ]
  },
  {
   "cell_type": "markdown",
   "metadata": {},
   "source": [
    "1. Folosind functia `np.where`, determinati care sunt liniile si coloanele care contin un element dat intr-o matrice. \n",
    "1. Pentru o matrice de numere, sa se determine care este produsul elementelor pe linii.\n",
    "1. Folosind functia `np.all`, determinati daca toate elementele unei matrice `a` sunt mai mari sau egale decat toate de pe pozitiile corespondente din `b`.\n",
    "1. Determinati care e maximul pe coloanele unei matrice (functia `max` cu argumentul `axis` setat corespunzator) si maximul intregii matrice.\n",
    "1. Plecand de la un vector de numere de tip float pentru care un element este pus la valoarea `np.nan`, calculati suma elementelor. Explicati rezultatul.\n",
    "1. Pentru un vector de numere, care sunt *toate pozitiile* pe care apar valoarea maxima? Folositi functie NumPy.\n",
    "1. Sa se calculeze suma elementelor non-NaN intr-un 2d numpy array, in 3 feluri. Folosind comanda magica `%timeit`, sa se determine care e mai rapida.\n",
    "    1. Peste o copie a tabelului initial (functia membru `copy()` a unui tablou) se suprascriu elementele nan cu 0, apoi se face suma;\n",
    "    1. Folosind functia `np.nansum`;\n",
    "    1. Folosind indiciere booleana si functi `np.isnan`, se determina colectia elementelor non-nan si se calculeaza suma lor in mod obisnuit.\n",
    "1. Se considera vectorul: `a = np.array([230, 10, 284, 39, 76])`. Folosind indexarea logica, sa se inmulteasca elementele din vector care sunt mai mici ca 100 cu 2 (restul raman neschimbate). Folosind ciclare, sa se aplice aceeasi operatie pana cand toate elementele devin mai mari ca 100. Sa se afiseze din vectorul final elementele care sunt mai mari de 150 si mai mici de 200.\n",
    "1. La curs s-a prezentat problema gasirii celei mai apropiate peerchi de puncte in spatiul 2d. Rescrieti rezolvarea pentru a determina cele mai apropiate k puncte (k dat) intr-un spatiu 5-dimensional.  \n",
    "1. Se dau doi vectori **x** si **y** de *m*, respectiv *n* componente. Sa se calculeze, folosind cod vectorizat si cod Python clasic:\n",
    "$$\n",
    "\\sum\\limits_{i, j} x_i \\cdot y_j\n",
    "$$"
   ]
  }
 ],
 "metadata": {
  "kernelspec": {
   "display_name": "Python 3",
   "language": "python",
   "name": "python3"
  },
  "language_info": {
   "codemirror_mode": {
    "name": "ipython",
    "version": 3
   },
   "file_extension": ".py",
   "mimetype": "text/x-python",
   "name": "python",
   "nbconvert_exporter": "python",
   "pygments_lexer": "ipython3",
   "version": "3.6.3"
  }
 },
 "nbformat": 4,
 "nbformat_minor": 2
}
