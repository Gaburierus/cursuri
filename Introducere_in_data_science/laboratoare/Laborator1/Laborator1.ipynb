{
 "cells": [
  {
   "cell_type": "markdown",
   "metadata": {},
   "source": [
    "# Laborator 1"
   ]
  },
  {
   "cell_type": "markdown",
   "metadata": {},
   "source": [
    "## Instalare Anaconda\n",
    "\n",
    "1. Se descarca [Anaconda](https://www.anaconda.com/download/); folositi versiunea pe 64 de biti daca sistemul de operare este de acelasi tip.\n",
    "1. Pe parcursul instalarii se alege \"Install just for me\" - nu neceista drepturi de adminstrare pe calculatorul respectiv\n",
    "![Just for me](./images/img1.png)\n",
    "1. Pentru destination folder alegeti o unitate si un director pentru care aveti drepturi de scriere, de ex. D:\\lucru\n",
    "1. Bifa de \"Add Anaconda to my path environment variable\" sa fie debifata, cea de \"Register Anaconda...\" bifata:\n",
    "![bife](./images/img2.png)\n",
    "1. Actualizarea pachetelor se face in doi pasi:\n",
    "    1. Se actualizeaza managerul de pachete conda:\n",
    "    `conda update conda`\n",
    "    1. Se actualizeaza pachetele instalate:\n",
    "    `conda update --all`\n",
    "Se poate specifica optiunea `--yes` pentru ca actualizarea sa se faca fara a mai astepta raspunsul utilizatorului: `conda update --all --yes`.\n",
    "Prima comanda se paote da doar in mediul `base` (a se vedea mai jos despre medii). A doua comanda poate fi data in orice mediu. "
   ]
  },
  {
   "cell_type": "markdown",
   "metadata": {},
   "source": [
    "## Setare mediu virtual, instalare de pachete\n",
    "\n",
    "In Anaconda se pot defini medii virtuale (virtual environments). Avantajul acestora este ca se permite ca intr-un mediu sa fie instalate pachete cu dependinte specifice fara a interfera cu pachetele din alte medii. \n",
    "\n",
    "Implicit, la instalarea Anaconda se creeaza un mediu `base`. Se pot crea medii virtuale urmand pasii de mai jos. \n",
    "\n",
    "1. Creati un mediu virtual (virtual environment) de data-science cu comanda:\n",
    "```\n",
    "conda create --name data-science python=3.6 anaconda --yes\n",
    "```\n",
    "Trecerea in mediul virtual se face cu:\n",
    "```\n",
    "activate data-science\n",
    "```\n",
    "iar iesirea cu:\n",
    "```\n",
    "deactivate\n",
    "```\n",
    "Lista mediilor virtuale se obtine prin:\n",
    "```\n",
    "conda info --envs\n",
    "```\n",
    "1. Instalati pachete auxiliare pentru Jupyter notebook:\n",
    "```\n",
    "conda install -c conda-forge jupyter_contrib_nbextensions\n",
    "jupyter contrib nbextension install --user\n",
    "```\n",
    "1. Se pot instala si pachete care nu se gasesc in canalul oficial de conda, folosind comanda `pip`. Orice distributie de Python are acces la pachete prin acest manager:\n",
    "```\n",
    "pip install librosa\n",
    "```\n",
    "sau pentru upgrade al unui pachet instalat:\n",
    "```\n",
    "pip install keras --upgrade\n",
    "```\n",
    "Lista tuturor pachetelor instalate in distributia Anaconda, in mediul curent, se obtine cu comanda\n",
    "```\n",
    "conda list\n",
    "```\n",
    "Cele in dreptul carora apare in ultima coloana specificatia `<pip>` se pot actualiza doar prin package manager-ul pip; celelalte - folosind utilitarul conda. "
   ]
  },
  {
   "cell_type": "markdown",
   "metadata": {},
   "source": [
    "## Manifestul Python\n",
    "Lansati interpretorul interactiv Python in linia de comanda: `ipython` si apoi rulati comanda: `import this`. Se va afisa pe ecran manifestul Python [the Zen of Python](https://www.python.org/dev/peps/pep-0020/)."
   ]
  },
  {
   "cell_type": "markdown",
   "metadata": {},
   "source": [
    "## Ciclari, siruri de caractere\n",
    "\n",
    "Se recomanda ca urmatoarele exercitii sa le lucrari in Jupyter notebook. In linia de comanda (command prompt sau PowerShell) scrieti comanda:\n",
    "```\n",
    "jupyter notebook\n",
    "```\n",
    "Se va deschide automa browserul implicit la adresa localhost:8888 (daca portul 8888 nu e liber, se va cauta automat un alt port). \n",
    "\n",
    "1. (fizz-buzz test) Sa se scrie numerele de la 1 la n; pentru fiecare multiplu de 3 se va scrie in locul numarului 'Fizz', pentru multiplu al lui 5 se va scrie 'Buzz'; daca numarul este multiplu de 15 se va scrie in locul lui 'FizzBuzz'.\n",
    "1. Sa se verifice [conjectura Collatz](https://en.wikipedia.org/wiki/Collatz_conjecture) pentru numerele intre 1 si 1000. \n",
    "1. \\* Sa se creeze o functie care preia un numar n si returneaza un alt numar pe baza cifrelor lui n, astfel: se calculeaza numarul cifrelor pare din n (fie el si 0), numarul de cifre impare (poate fi si 0), suma lor si se formeaza numarul din acestea 3; daca exista vreun zero nesemnificativ, acesta se va ignora. Numarul obtinut se va supune aceleiasi transformari. Exemplu: 3->11->22->202->303->123->123->123... Verificati ca dupa un numar finit de transformari se ajunge la numarul 123; faceti aceste verificari pentru numerele din intevalul 1, 1000.\n",
    "1. \\* Se pleaca de la un numar intreg. Fiecare cifra a sa se scrie cu litere, in limba engleza (de exemplu 5->five). Claculati numarul total de caractere rezultate, iar pentru numarul obtinut repetati procedura. Verificati pentru numerele de la 1 la n ca se obtine intr-un numar finit de pasi numarul 4. Exemplu: 123->onetwothree->11->oneone->6->six->3->three->5->five->4->four->4->four....\n",
    "1. \\* Este rezultatul de mai sus valabil si pentru transcriere in limba romana?\n",
    "1. \\* Se pleaca de la un numar n; se scriu toti divizorii sai, inclusiv 1 si n; se aduna *cifrele* tuturor acestor divizori; pentru numarul obtinut se aplica acelasi procedeu. Verificati ca procesul se stabilizeaza in numarul 15. \n",
    "Exemplu: 20->1, 2, 4, 5, 10, 20 -> suma cifrelor: 15->1, 3, 5, 15-> suma cifrelor: 15..."
   ]
  },
  {
   "cell_type": "markdown",
   "metadata": {},
   "source": [
    "## Liste, dictionare, multimi\n",
    "1. Dandu-se o lista, sa se inverseze ordinea elementelor. Exista doua variante de rezolvare: slicing si folosind o metoda a tipului lista.\n",
    "1. Pentru o lista de cuvinte (stringuri), sa se obtina un dictionar care are drept cheie cuvintele distincte din lista, iar valorile corespunzatoare sa fie numarul de aparitii ale fiecarui cuvant\n",
    "1. Dandu-se o lista de tuple binare, sa se obtina o lista care contine valoarea maxima a fiecarui tuplu.\n",
    "1. Sa se calculeze suma numerelor de indice par si produsul numerelor de indice impar dintr-o lista. \n",
    "1. Documentati-va asupra tipului de date Set (multime) si folositi-l pentru a determina elementele unice dintr-o lista de numere.\n",
    "1. Pentru o lista de stringuri si un numar n > 1, sa se produca o lista care contine toate stringurile din lista initiala cu toate numere 1..n. \n",
    "Exemplu: pentru lista = ['a', 'b', 'c'], n=2 se va produce lista_2 = ['a1', 'a2', 'b1', 'b2', 'c1', 'c2']; ordinea poate sa difere. Incercati o implementare bazata pe list comprehension.\n",
    "1. Dandu-se o lista de cuvinte, sa se produca o alta lista cu aceleasi cuvinte, dar: prima litera a fiecarui cuvant sa fie mare, celelalte din cuvant - mici. \n",
    "1. Documentati-va si explicati comportamentul pentru urmatoarea secventa de cod:\n",
    "```python\n",
    "this = ['I', 'am', 'not', 'a', 'crook']\n",
    "that = ['I', 'am', 'not', 'a', 'crook']\n",
    "print(\"Test 1:\", this is that)\n",
    "that = this\n",
    "print(\"Test 2:\", this is that)\n",
    "```"
   ]
  },
  {
   "cell_type": "markdown",
   "metadata": {},
   "source": [
    "## Functii\n",
    "1. Pentru o lista de numere, sa se scrie o functie care returneaza suma elementelor si diferenta maxima dintre ele.\n",
    "1. Scrieti o functie care preia doua liste si returneaza `True` daca cele doua liste contin cel putin k elemente comune (k dat ca parametru, intreg >= 1, valoare implicita 1), `False` altfel.\n",
    "1. Sa se scrie o functie care determina daca o lista contine doar cuvinte. Functia trebuie sa testeze daca elementele din lista sunt stringuri; un string este cuvant daca nu contine: spatiu, virgula si alti separatori.\n",
    "1. Sa se scrie o functie care returneaza numarul de litere mici si mari - 2 rezultate - dintr-un parametru dat.\n",
    "1. Sa se scrie o functie care primind o lista de dictionare, returneaza `True` daca toate dictionarele sunt goale si `False` altfel.\n",
    "1. Sa se scrie o functie recursiva care sa faca ridicarea la putere a unui numar, astfel:\n",
    "$$\n",
    "a^n = \\begin{cases}\n",
    "\\left(a^{n//2}\\right)^2 & \\text{daca } n \\text{ e par}\n",
    "\\\\\n",
    "\\left(a^{n//2}\\right)^2 \\cdot a & \\text{daca } n \\text{ e impar}\n",
    "\\end{cases}\n",
    "$$\n",
    "unde prin $n//2$ se reprezinta catul impartirii intregi intre $n$ si 2."
   ]
  }
 ],
 "metadata": {
  "kernelspec": {
   "display_name": "Python 3",
   "language": "python",
   "name": "python3"
  },
  "language_info": {
   "codemirror_mode": {
    "name": "ipython",
    "version": 3
   },
   "file_extension": ".py",
   "mimetype": "text/x-python",
   "name": "python",
   "nbconvert_exporter": "python",
   "pygments_lexer": "ipython3",
   "version": "3.6.4"
  }
 },
 "nbformat": 4,
 "nbformat_minor": 2
}
